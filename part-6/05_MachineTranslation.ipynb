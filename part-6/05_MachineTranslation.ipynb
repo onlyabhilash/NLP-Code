{
  "cells": [
    {
      "cell_type": "markdown",
      "metadata": {
        "id": "view-in-github",
        "colab_type": "text"
      },
      "source": [
        "<a href=\"https://colab.research.google.com/github/onlyabhilash/NLP-Code/blob/main/part-6/05_MachineTranslation.ipynb\" target=\"_parent\"><img src=\"https://colab.research.google.com/assets/colab-badge.svg\" alt=\"Open In Colab\"/></a>"
      ]
    },
    {
      "cell_type": "markdown",
      "metadata": {
        "id": "R7sKQTz5TqG_"
      },
      "source": [
        "This piece of code demonstrates using the Machine Translation service provided by Microsoft's Azure Cognitive services API "
      ]
    },
    {
      "cell_type": "code",
      "execution_count": null,
      "metadata": {
        "id": "SMq6IZ9HTqHJ",
        "outputId": "a14a8e15-b605-4b58-e23f-3d85559b74d5"
      },
      "outputs": [
        {
          "name": "stdout",
          "output_type": "stream",
          "text": [
            "Requirement already satisfied: requests in c:\\users\\sukee\\appdata\\local\\programs\\python\\python37\\lib\\site-packages (2.25.1)"
          ]
        },
        {
          "name": "stderr",
          "output_type": "stream",
          "text": [
            "WARNING: You are using pip version 20.1.1; however, version 21.1.1 is available.\n",
            "You should consider upgrading via the 'c:\\users\\sukee\\appdata\\local\\programs\\python\\python37\\python.exe -m pip install --upgrade pip' command.\n"
          ]
        },
        {
          "name": "stdout",
          "output_type": "stream",
          "text": [
            "\n",
            "Requirement already satisfied: chardet<5,>=3.0.2 in c:\\users\\sukee\\appdata\\local\\programs\\python\\python37\\lib\\site-packages (from requests) (4.0.0)\n",
            "Requirement already satisfied: urllib3<1.27,>=1.21.1 in c:\\users\\sukee\\appdata\\local\\programs\\python\\python37\\lib\\site-packages (from requests) (1.25.9)\n",
            "Requirement already satisfied: certifi>=2017.4.17 in c:\\users\\sukee\\appdata\\local\\programs\\python\\python37\\lib\\site-packages (from requests) (2020.12.5)\n",
            "Requirement already satisfied: idna<3,>=2.5 in c:\\users\\sukee\\appdata\\local\\programs\\python\\python37\\lib\\site-packages (from requests) (2.10)\n"
          ]
        }
      ],
      "source": [
        "!pip install requests"
      ]
    },
    {
      "cell_type": "code",
      "execution_count": null,
      "metadata": {
        "id": "63Q7_vJlTqHM"
      },
      "outputs": [],
      "source": [
        "import os, requests, uuid, json"
      ]
    },
    {
      "cell_type": "code",
      "execution_count": null,
      "metadata": {
        "id": "i6wJmBCLTqHQ"
      },
      "outputs": [],
      "source": [
        "# You will need a subscription key - you can use trial version\n",
        "# This will be user based\n",
        "\n",
        "subscription_key = \"XXXX\"\n",
        "endpoint = \"https://api-nam.cognitive.microsofttranslator.com\"\n",
        "path = '/translate?api-version=3.0'\n",
        "params = '&to=de' #From English to German (de)\n",
        "constructed_url = endpoint + path + params"
      ]
    },
    {
      "cell_type": "code",
      "execution_count": null,
      "metadata": {
        "id": "M-05wPYcTqHS"
      },
      "outputs": [],
      "source": [
        "headers = {\n",
        "    'Ocp-Apim-Subscription-Key': subscription_key,\n",
        "    'Content-type': 'application/json',\n",
        "    'X-ClientTraceId': str(uuid.uuid4())\n",
        "}\n",
        "\n",
        "body = [{'text' : 'How good is Machine Translation?'}]\n",
        "request = requests.post(constructed_url, headers=headers, json=body)\n",
        "response = request.json()\n",
        "\n",
        "print(json.dumps(response, sort_keys=True, indent=4, separators=(',', ': ')))\n"
      ]
    },
    {
      "cell_type": "code",
      "execution_count": null,
      "metadata": {
        "id": "3tqOn9TJTqHU"
      },
      "outputs": [],
      "source": [
        "Google Cloud also has a translate service, which can be explored as an additional exercise.\n",
        "#todo: get a trial subscription key and show output for this, and perhaps add google example code from: https://cloud.google.com/translate/docs"
      ]
    }
  ],
  "metadata": {
    "kernelspec": {
      "display_name": "Python 3",
      "language": "python",
      "name": "python3"
    },
    "language_info": {
      "codemirror_mode": {
        "name": "ipython",
        "version": 3
      },
      "file_extension": ".py",
      "mimetype": "text/x-python",
      "name": "python",
      "nbconvert_exporter": "python",
      "pygments_lexer": "ipython3",
      "version": "3.7.9"
    },
    "colab": {
      "name": "05_MachineTranslation.ipynb",
      "provenance": [],
      "include_colab_link": true
    }
  },
  "nbformat": 4,
  "nbformat_minor": 0
}