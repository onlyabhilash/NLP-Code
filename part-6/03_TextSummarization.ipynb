{
  "cells": [
    {
      "cell_type": "markdown",
      "metadata": {
        "id": "view-in-github",
        "colab_type": "text"
      },
      "source": [
        "<a href=\"https://colab.research.google.com/github/onlyabhilash/NLP-Code/blob/main/part-6/03_TextSummarization.ipynb\" target=\"_parent\"><img src=\"https://colab.research.google.com/assets/colab-badge.svg\" alt=\"Open In Colab\"/></a>"
      ]
    },
    {
      "cell_type": "markdown",
      "metadata": {
        "id": "nDRrAaF6B0Qd"
      },
      "source": [
        "## Text Summarization\n",
        "\n",
        "### There are broadly two types of summarization — Extractive and Abstractive\n",
        "\n",
        "    1. Extractive— These approaches select sentences from the corpus that best represent it and arrange them to form a summary.\n",
        "    2. Abstractive— These approaches use natural language techniques to summarize a text using novel sentences.\n",
        "\n",
        "In this notebook, let us see a few examples of existing summarization approaches.\n",
        "The first one comes from the python library sumy, which implements several popular summarization approaches from literature. The second example uses gensim's summarizer implementation. Then we move on to Summa and finally we wrap up extractive summarization using BERT. "
      ]
    },
    {
      "cell_type": "markdown",
      "metadata": {
        "id": "XlIo08bpB0Qm"
      },
      "source": [
        "## Summarization with Sumy\n",
        "\n",
        "### Sumy offers several algorithms and methods for summarization such as:\n",
        "\n",
        "\n",
        "\n",
        "    1. Luhn – Heurestic method\n",
        "    2. Latent Semantic Analysis\n",
        "    4. LexRank – Unsupervised approach inspired by algorithms PageRank and HITS\n",
        "    5. TextRank - Graph-based summarization technique with keyword extractions in from document\n",
        "There are many more which you can find in the github repo of [sumy](https://github.com/miso-belica/sumy)"
      ]
    },
    {
      "cell_type": "code",
      "execution_count": null,
      "metadata": {
        "id": "fE-e9HKKB0Qv",
        "outputId": "fcecd5af-f0d5-4245-b3f3-849815c26fb3",
        "scrolled": true
      },
      "outputs": [
        {
          "name": "stdout",
          "output_type": "stream",
          "text": [
            "Collecting sumy\n",
            "  Using cached sumy-0.8.1-py2.py3-none-any.whl (83 kB)\n",
            "Requirement already satisfied: requests>=2.7.0 in c:\\users\\sukee\\appdata\\local\\programs\\python\\python37\\lib\\site-packages (from sumy) (2.25.1)\n",
            "Requirement already satisfied: nltk>=3.0.2 in c:\\users\\sukee\\appdata\\local\\programs\\python\\python37\\lib\\site-packages (from sumy) (3.6.2)\n",
            "Collecting docopt<0.7,>=0.6.1\n",
            "  Using cached docopt-0.6.2.tar.gz (25 kB)\n",
            "Collecting pycountry>=18.2.23\n",
            "  Downloading pycountry-20.7.3.tar.gz (10.1 MB)\n",
            "Collecting breadability>=0.1.20\n",
            "  Using cached breadability-0.1.20.tar.gz (32 kB)\n",
            "Requirement already satisfied: idna<3,>=2.5 in c:\\users\\sukee\\appdata\\local\\programs\\python\\python37\\lib\\site-packages (from requests>=2.7.0->sumy) (2.10)\n",
            "Requirement already satisfied: certifi>=2017.4.17 in c:\\users\\sukee\\appdata\\local\\programs\\python\\python37\\lib\\site-packages (from requests>=2.7.0->sumy) (2020.12.5)\n",
            "Requirement already satisfied: chardet<5,>=3.0.2 in c:\\users\\sukee\\appdata\\local\\programs\\python\\python37\\lib\\site-packages (from requests>=2.7.0->sumy) (4.0.0)\n",
            "Requirement already satisfied: urllib3<1.27,>=1.21.1 in c:\\users\\sukee\\appdata\\local\\programs\\python\\python37\\lib\\site-packages (from requests>=2.7.0->sumy) (1.25.9)\n",
            "Requirement already satisfied: regex in c:\\users\\sukee\\appdata\\local\\programs\\python\\python37\\lib\\site-packages (from nltk>=3.0.2->sumy) (2021.4.4)"
          ]
        },
        {
          "name": "stderr",
          "output_type": "stream",
          "text": [
            "WARNING: You are using pip version 20.1.1; however, version 21.1.1 is available.\n",
            "You should consider upgrading via the 'c:\\users\\sukee\\appdata\\local\\programs\\python\\python37\\python.exe -m pip install --upgrade pip' command.\n"
          ]
        },
        {
          "name": "stdout",
          "output_type": "stream",
          "text": [
            "\n",
            "Requirement already satisfied: joblib in c:\\users\\sukee\\appdata\\local\\programs\\python\\python37\\lib\\site-packages (from nltk>=3.0.2->sumy) (1.0.1)\n",
            "Requirement already satisfied: tqdm in c:\\users\\sukee\\appdata\\local\\programs\\python\\python37\\lib\\site-packages (from nltk>=3.0.2->sumy) (4.46.1)\n",
            "Requirement already satisfied: click in c:\\users\\sukee\\appdata\\local\\programs\\python\\python37\\lib\\site-packages (from nltk>=3.0.2->sumy) (7.1.2)\n",
            "Collecting lxml>=2.0\n",
            "  Downloading lxml-4.6.3-cp37-cp37m-win_amd64.whl (3.5 MB)\n",
            "Using legacy setup.py install for docopt, since package 'wheel' is not installed.\n",
            "Using legacy setup.py install for pycountry, since package 'wheel' is not installed.\n",
            "Using legacy setup.py install for breadability, since package 'wheel' is not installed.\n",
            "Installing collected packages: docopt, pycountry, lxml, breadability, sumy\n",
            "    Running setup.py install for docopt: started\n",
            "    Running setup.py install for docopt: finished with status 'done'\n",
            "    Running setup.py install for pycountry: started\n",
            "    Running setup.py install for pycountry: finished with status 'done'\n",
            "    Running setup.py install for breadability: started\n",
            "    Running setup.py install for breadability: finished with status 'done'\n",
            "Successfully installed breadability-0.1.20 docopt-0.6.2 lxml-4.6.3 pycountry-20.7.3 sumy-0.8.1\n"
          ]
        }
      ],
      "source": [
        "# Install sumy\n",
        "\n",
        "!pip install sumy"
      ]
    },
    {
      "cell_type": "code",
      "execution_count": null,
      "metadata": {
        "id": "ZVKqAHCEB0R0",
        "outputId": "8723b0bf-d3a8-4d08-de38-61c0d242647b"
      },
      "outputs": [
        {
          "name": "stderr",
          "output_type": "stream",
          "text": [
            "[nltk_data] Downloading package punkt to\n",
            "[nltk_data]     /home/etherealenvy/nltk_data...\n",
            "[nltk_data]   Unzipping tokenizers/punkt.zip.\n"
          ]
        },
        {
          "data": {
            "text/plain": [
              "True"
            ]
          },
          "execution_count": 5,
          "metadata": {
            "tags": []
          },
          "output_type": "execute_result"
        }
      ],
      "source": [
        "import nltk\n",
        "# For NLTK virtual environments are high recommended and it requires python verisions higher than 3.5 on windows"
      ]
    },
    {
      "cell_type": "code",
      "execution_count": null,
      "metadata": {
        "id": "SVu_YDlXB0SR",
        "outputId": "396bccc7-eeeb-43c4-dc60-a4c718d2dd67"
      },
      "outputs": [
        {
          "name": "stdout",
          "output_type": "stream",
          "text": [
            "TextRankSummarizer:\n",
            "For text, extraction is analogous to the process of skimming, where the summary (if available), headings and subheadings, figures, the first and last paragraphs of a section, and optionally the first and last sentences in a paragraph are read before one chooses to read the entire document in detail.\n",
            "Once the graph is constructed, it is used to form a stochastic matrix, combined with a damping factor (as in the \"random surfer model\"), and the ranking over vertices is obtained by finding the eigenvector corresponding to eigenvalue 1 (i.e., the stationary distribution of the random walk on the graph).\n",
            "------------------------------\n",
            "LexRankSummarizer:\n",
            "An example of a summarization problem is document summarization, which attempts to automatically produce an abstract from a given document.\n",
            "The main difficulty in supervised extractive summarization is that the known summaries must be manually created by extracting sentences so the sentences in an original training document can be labeled as \"in summary\" or \"not in summary\".\n",
            "------------------------------\n",
            "LuhnSummarizer:\n",
            "This tool does not use word frequency, does not need training or preprocessing of any kind and works by generating ideograms that represent the meaning of each sentence and then summarizes using two user-supplied parameters: equivalence (when are two sentences to be considered equivalent) and relevance (how long is the desired summary).\n",
            "A Class of Submodular Functions for Document Summarization \", The 49th Annual Meeting of the Association for Computational Linguistics: Human Language Technologies (ACL-HLT), 2011 ^ Sebastian Tschiatschek, Rishabh Iyer, Hoachen Wei and Jeff Bilmes, Learning Mixtures of Submodular Functions for Image Collection Summarization , In Advances of Neural Information Processing Systems (NIPS), Montreal, Canada, December - 2014.\n",
            "------------------------------\n",
            "LsaSummarizer\n",
            "For instance, in the above text, we might learn a rule that says phrases with initial capital letters are likely to be keyphrases.\n",
            "Hulth uses a reduced set of features, which were found most successful in the KEA (Keyphrase Extraction Algorithm) work derived from Turney’s seminal paper.\n",
            "------------------------------\n"
          ]
        }
      ],
      "source": [
        "#Code to summarize a given webpage using Sumy's TextRank implementation. \n",
        "from sumy.parsers.html import HtmlParser\n",
        "from sumy.nlp.tokenizers import Tokenizer\n",
        "from sumy.summarizers.text_rank import TextRankSummarizer\n",
        "from sumy.summarizers.lex_rank import LexRankSummarizer\n",
        "from sumy.summarizers.luhn import LuhnSummarizer\n",
        "from sumy.summarizers.lsa import LsaSummarizer\n",
        "\n",
        "num_sentences_in_summary = 2\n",
        "url = \"https://en.wikipedia.org/wiki/Automatic_summarization\"\n",
        "parser = HtmlParser.from_url(url, Tokenizer(\"english\"))\n",
        "\n",
        "summarizer_list=(\"TextRankSummarizer:\",\"LexRankSummarizer:\",\"LuhnSummarizer:\",\"LsaSummarizer\") #list of summarizers\n",
        "summarizers = [TextRankSummarizer(), LexRankSummarizer(), LuhnSummarizer(), LsaSummarizer()]\n",
        "\n",
        "for i,summarizer in enumerate(summarizers):\n",
        "    print(summarizer_list[i])\n",
        "    for sentence in summarizer(parser.document, num_sentences_in_summary):\n",
        "        print((sentence))\n",
        "    print(\"-\"*30)"
      ]
    },
    {
      "cell_type": "markdown",
      "metadata": {
        "id": "i5Qyd9M2B0Ss"
      },
      "source": [
        "Clearly there are other summarizers and options in sumy. We leave their exploration as an exercise to you!\n",
        "\n",
        "## Summarization example with Gensim"
      ]
    },
    {
      "cell_type": "code",
      "execution_count": null,
      "metadata": {
        "id": "TZOIdGesB0Sy",
        "outputId": "373be4d4-565b-46a2-be01-d3ccbb8e3fc5"
      },
      "outputs": [
        {
          "name": "stdout",
          "output_type": "stream",
          "text": [
            "Requirement already satisfied: gensim in c:\\users\\sukee\\appdata\\local\\programs\\python\\python37\\lib\\site-packages (4.0.1)\n",
            "Requirement already satisfied: Cython==0.29.21 in c:\\users\\sukee\\appdata\\local\\programs\\python\\python37\\lib\\site-packages (from gensim) (0.29.21)\n",
            "Requirement already satisfied: numpy>=1.11.3 in c:\\users\\sukee\\appdata\\local\\programs\\python\\python37\\lib\\site-packages (from gensim) (1.20.2)\n",
            "Requirement already satisfied: smart-open>=1.8.1 in c:\\users\\sukee\\appdata\\local\\programs\\python\\python37\\lib\\site-packages (from gensim) (5.0.0)\n",
            "Requirement already satisfied: scipy>=0.18.1 in c:\\users\\sukee\\appdata\\local\\programs\\python\\python37\\lib\\site-packages (from gensim) (1.6.3)\n"
          ]
        },
        {
          "name": "stderr",
          "output_type": "stream",
          "text": [
            "WARNING: You are using pip version 20.1.1; however, version 21.1.1 is available.\n",
            "You should consider upgrading via the 'c:\\users\\sukee\\appdata\\local\\programs\\python\\python37\\python.exe -m pip install --upgrade pip' command.\n"
          ]
        }
      ],
      "source": [
        "!pip install gensim"
      ]
    },
    {
      "cell_type": "markdown",
      "metadata": {
        "id": "YB6IqAnrB0TL"
      },
      "source": [
        "Gensim does not have a HTML parser like sumy. So, let us use the example text from Chapter 5 (nlphistory.txt) to see what its summarized version looks like! \n"
      ]
    },
    {
      "cell_type": "code",
      "execution_count": null,
      "metadata": {
        "id": "8dHkUgCoB0TP",
        "outputId": "5f2e675e-7be7-47a7-8bd4-3a7077aef9dc"
      },
      "outputs": [
        {
          "name": "stdout",
          "output_type": "stream",
          "text": [
            "Summarize:\n",
            " Some notably successful natural language processing systems developed in the 1960s were SHRDLU, a natural language system working in restricted \"blocks worlds\" with restricted vocabularies, and ELIZA, a simulation of a Rogerian psychotherapist, written by Joseph Weizenbaum between 1964 and 1966.\n",
            "This was due to both the steady increase in computational power (see Moore's law) and the gradual lessening of the dominance of Chomskyan theories of linguistics (e.g. transformational grammar), whose theoretical underpinnings discouraged the sort of corpus linguistics that underlies the machine-learning approach to language processing.[3] Some of the earliest-used machine learning algorithms, such as decision trees, produced systems of hard if-then rules similar to existing hand-written rules.\n",
            "However, part-of-speech tagging introduced the use of hidden Markov models to natural language processing, and increasingly, research has focused on statistical models, which make soft, probabilistic decisions based on attaching real-valued weights to the features making up the input data.\n",
            "Generally, this task is much more difficult than supervised learning, and typically produces less accurate results for a given amount of input data.\n",
            "In some areas, this shift has entailed substantial changes in how NLP systems are designed, such that deep neural network-based approaches may be viewed as a new paradigm distinct from statistical natural language processing.\n",
            "------------------------------ \n",
            "Summarize Corpus\n",
            " [[(3, 1), (7, 1), (10, 1), (11, 1), (12, 1), (22, 1), (24, 1), (27, 1), (80, 1), (94, 1), (95, 1), (193, 1), (199, 1), (214, 1), (249, 1), (262, 1), (413, 1), (418, 1), (449, 1), (450, 1), (451, 1), (452, 1), (453, 1), (454, 1), (455, 1), (456, 1), (457, 1), (458, 1), (459, 1), (460, 1), (461, 1), (462, 1), (463, 1), (464, 1)], [(11, 1), (12, 1), (13, 1), (17, 3), (38, 1), (55, 1), (57, 1), (76, 1), (82, 2), (94, 1), (164, 1), (203, 1), (206, 2), (257, 1), (258, 1), (259, 1), (260, 1), (261, 1), (262, 1), (263, 1), (264, 1), (265, 1), (266, 1), (267, 1), (268, 1), (269, 1), (270, 1), (271, 1), (272, 1), (273, 1), (274, 1), (275, 1), (276, 1), (277, 1), (278, 1), (279, 1)]]\n"
          ]
        }
      ],
      "source": [
        "from gensim.summarization import summarize,summarize_corpus\n",
        "from gensim.summarization.textcleaner import split_sentences\n",
        "from gensim import corpora\n",
        "\n",
        "text = open(\"nlphistory.txt\").read()\n",
        "\n",
        "#summarize method extracts the most relevant sentences in a text\n",
        "print(\"Summarize:\\n\",summarize(text, word_count=200, ratio = 0.1))\n",
        "\n",
        "\n",
        "#the summarize_corpus selects the most important documents in a corpus:\n",
        "sentences = split_sentences(text)# Creates a corpus where each document is a sentence.\n",
        "tokens = [sentence.split() for sentence in sentences]\n",
        "dictionary = corpora.Dictionary(tokens)\n",
        "corpus = [dictionary.doc2bow(sentence_tokens) for sentence_tokens in tokens]\n",
        "\n",
        "# Extracts the most important documents (shown here in BoW representation)\n",
        "print(\"-\"*30,\"\\nSummarize Corpus\\n\",summarize_corpus(corpus,ratio=0.1))\n",
        "\n",
        "\n"
      ]
    },
    {
      "cell_type": "markdown",
      "metadata": {
        "id": "5XGqBqPQB0T7"
      },
      "source": [
        "The two parameters **word_count** and **ratio** we can adjust how much text the summarizer outputs\n",
        "1. word_count: maximum amount of words we want in the summary\n",
        "2. ratio: fraction of sentences in the original text should be returned as output\n",
        "\n",
        "### Todo: Explore other options in gensim summarizer, what are possible shortcomings (e.g., sensitive to input's format etc)\n",
        "[Short-Comings\n",
        "1. gensim's summarizer uses TextRank by default, an algorithm that uses PageRank. In gensim it is unfortunately implemented using a Python list of PageRank graph nodes, so it may fail if your graph is too big.]\n",
        "\n",
        "\n",
        "\n",
        "## Summa Summarizer\n",
        "The summa summarizer uses TextRank too but with optimizations on similar functions. More information about the optimizations can be found in the following [paper](https://arxiv.org/pdf/1602.03606.pdf). "
      ]
    },
    {
      "cell_type": "code",
      "execution_count": null,
      "metadata": {
        "id": "5p5qBTf7B0T_",
        "outputId": "76dad3b1-099d-4306-e5e3-0eae8b1ffcf3"
      },
      "outputs": [
        {
          "name": "stdout",
          "output_type": "stream",
          "text": [
            "Collecting summa\n",
            "  Using cached summa-1.2.0.tar.gz (54 kB)\n",
            "Requirement already satisfied: scipy>=0.19 in c:\\users\\sukee\\appdata\\local\\programs\\python\\python37\\lib\\site-packages (from summa) (1.6.3)\n",
            "Requirement already satisfied: numpy<1.23.0,>=1.16.5 in c:\\users\\sukee\\appdata\\local\\programs\\python\\python37\\lib\\site-packages (from scipy>=0.19->summa) (1.20.2)\n",
            "Using legacy setup.py install for summa, since package 'wheel' is not installed.\n",
            "Installing collected packages: summa\n",
            "    Running setup.py install for summa: started\n",
            "    Running setup.py install for summa: finished with status 'done'\n",
            "Successfully installed summa-1.2.0\n"
          ]
        },
        {
          "name": "stderr",
          "output_type": "stream",
          "text": [
            "WARNING: You are using pip version 20.1.1; however, version 21.1.1 is available.\n",
            "You should consider upgrading via the 'c:\\users\\sukee\\appdata\\local\\programs\\python\\python37\\python.exe -m pip install --upgrade pip' command.\n"
          ]
        }
      ],
      "source": [
        "!pip install summa"
      ]
    },
    {
      "cell_type": "code",
      "execution_count": null,
      "metadata": {
        "id": "EcBq0k1mB0UX",
        "outputId": "4c8f3982-cbd9-4850-f298-9318746af1f9"
      },
      "outputs": [
        {
          "name": "stdout",
          "output_type": "stream",
          "text": [
            "Summary:\n",
            "However, part-of-speech tagging introduced the use of hidden Markov models to natural language processing, and increasingly, research has focused on statistical models, which make soft, probabilistic decisions based on attaching real-valued weights to the features making up the input data.\n",
            "In the 2010s, representation learning and deep neural network-style machine learning methods became widespread in natural language processing, due in part to a flurry of results showing that such techniques[4][5] can achieve state-of-the-art results in many natural language tasks, for example in language modeling,[6] parsing,[7][8] and many others.\n"
          ]
        }
      ],
      "source": [
        "from summa import summarizer\n",
        "from summa import keywords\n",
        "text = open(\"nlphistory.txt\").read()\n",
        "\n",
        "print(\"Summary:\")\n",
        "print (summarizer.summarize(text,ratio=0.1))"
      ]
    },
    {
      "cell_type": "markdown",
      "metadata": {
        "id": "0_x7UTe3B0Up"
      },
      "source": [
        "### BERT for Extractive Summarization\n",
        "Lets see how we can use BERT for extractive summarization"
      ]
    },
    {
      "cell_type": "code",
      "execution_count": null,
      "metadata": {
        "id": "iEGOmpwjB0VE",
        "outputId": "a13ba70e-859f-467a-d2c7-48ab3db91c56"
      },
      "outputs": [
        {
          "name": "stdout",
          "output_type": "stream",
          "text": [
            "Collecting bert-extractive-summarizer\n",
            "  Downloading bert_extractive_summarizer-0.7.1-py3-none-any.whl (18 kB)\n",
            "Collecting spacy\n",
            "  Downloading spacy-3.0.6-cp37-cp37m-win_amd64.whl (11.7 MB)\n",
            "Requirement already satisfied: transformers in c:\\users\\sukee\\appdata\\local\\programs\\python\\python37\\lib\\site-packages (from bert-extractive-summarizer) (2.11.0)\n",
            "Collecting scikit-learn\n",
            "  Downloading scikit_learn-0.24.2-cp37-cp37m-win_amd64.whl (6.8 MB)\n",
            "Requirement already satisfied: tqdm<5.0.0,>=4.38.0 in c:\\users\\sukee\\appdata\\local\\programs\\python\\python37\\lib\\site-packages (from spacy->bert-extractive-summarizer) (4.46.1)\n",
            "Collecting typer<0.4.0,>=0.3.0\n",
            "  Using cached typer-0.3.2-py3-none-any.whl (21 kB)\n",
            "Collecting pydantic<1.8.0,>=1.7.1\n",
            "  Downloading pydantic-1.7.4-cp37-cp37m-win_amd64.whl (1.7 MB)\n",
            "Requirement already satisfied: numpy>=1.15.0 in c:\\users\\sukee\\appdata\\local\\programs\\python\\python37\\lib\\site-packages (from spacy->bert-extractive-summarizer) (1.20.2)\n",
            "Collecting catalogue<2.1.0,>=2.0.3\n",
            "  Using cached catalogue-2.0.4-py3-none-any.whl (16 kB)\n",
            "Collecting cymem<2.1.0,>=2.0.2\n",
            "  Downloading cymem-2.0.5-cp37-cp37m-win_amd64.whl (35 kB)\n",
            "Collecting thinc<8.1.0,>=8.0.3\n",
            "  Downloading thinc-8.0.3-cp37-cp37m-win_amd64.whl (1.0 MB)\n",
            "Requirement already satisfied: typing-extensions<4.0.0.0,>=3.7.4; python_version < \"3.8\" in c:\\users\\sukee\\appdata\\local\\programs\\python\\python37\\lib\\site-packages (from spacy->bert-extractive-summarizer) (3.10.0.0)\n",
            "Collecting spacy-legacy<3.1.0,>=3.0.4\n",
            "  Using cached spacy_legacy-3.0.5-py2.py3-none-any.whl (12 kB)\n",
            "Requirement already satisfied: jinja2 in c:\\users\\sukee\\appdata\\local\\programs\\python\\python37\\lib\\site-packages (from spacy->bert-extractive-summarizer) (2.11.3)\n",
            "Collecting preshed<3.1.0,>=3.0.2\n",
            "  Downloading preshed-3.0.5-cp37-cp37m-win_amd64.whl (108 kB)\n",
            "Requirement already satisfied: requests<3.0.0,>=2.13.0 in c:\\users\\sukee\\appdata\\local\\programs\\python\\python37\\lib\\site-packages (from spacy->bert-extractive-summarizer) (2.25.1)\n",
            "Requirement already satisfied: setuptools in c:\\users\\sukee\\appdata\\local\\programs\\python\\python37\\lib\\site-packages (from spacy->bert-extractive-summarizer) (47.1.0)\n",
            "Collecting murmurhash<1.1.0,>=0.28.0\n",
            "  Downloading murmurhash-1.0.5-cp37-cp37m-win_amd64.whl (20 kB)\n",
            "Requirement already satisfied: packaging>=20.0 in c:\\users\\sukee\\appdata\\local\\programs\\python\\python37\\lib\\site-packages (from spacy->bert-extractive-summarizer) (20.9)\n",
            "Collecting blis<0.8.0,>=0.4.0\n",
            "  Downloading blis-0.7.4-cp37-cp37m-win_amd64.whl (6.5 MB)\n",
            "Collecting wasabi<1.1.0,>=0.8.1\n",
            "  Using cached wasabi-0.8.2-py3-none-any.whl (23 kB)\n",
            "Collecting srsly<3.0.0,>=2.4.1\n",
            "  Downloading srsly-2.4.1-cp37-cp37m-win_amd64.whl (450 kB)\n",
            "Collecting pathy>=0.3.5\n",
            "  Using cached pathy-0.5.2-py3-none-any.whl (42 kB)\n",
            "Requirement already satisfied: filelock in c:\\users\\sukee\\appdata\\local\\programs\\python\\python37\\lib\\site-packages (from transformers->bert-extractive-summarizer) (3.0.12)\n",
            "Requirement already satisfied: regex!=2019.12.17 in c:\\users\\sukee\\appdata\\local\\programs\\python\\python37\\lib\\site-packages (from transformers->bert-extractive-summarizer) (2021.4.4)\n",
            "Requirement already satisfied: sentencepiece in c:\\users\\sukee\\appdata\\local\\programs\\python\\python37\\lib\\site-packages (from transformers->bert-extractive-summarizer) (0.1.95)\n",
            "Requirement already satisfied: tokenizers==0.7.0 in c:\\users\\sukee\\appdata\\local\\programs\\python\\python37\\lib\\site-packages (from transformers->bert-extractive-summarizer) (0.7.0)\n",
            "Requirement already satisfied: sacremoses in c:\\users\\sukee\\appdata\\local\\programs\\python\\python37\\lib\\site-packages (from transformers->bert-extractive-summarizer) (0.0.45)\n",
            "Requirement already satisfied: joblib>=0.11 in c:\\users\\sukee\\appdata\\local\\programs\\python\\python37\\lib\\site-packages (from scikit-learn->bert-extractive-summarizer) (1.0.1)\n",
            "Requirement already satisfied: scipy>=0.19.1 in c:\\users\\sukee\\appdata\\local\\programs\\python\\python37\\lib\\site-packages (from scikit-learn->bert-extractive-summarizer) (1.6.3)\n",
            "Collecting threadpoolctl>=2.0.0\n",
            "  Using cached threadpoolctl-2.1.0-py3-none-any.whl (12 kB)\n",
            "Requirement already satisfied: click<7.2.0,>=7.1.1 in c:\\users\\sukee\\appdata\\local\\programs\\python\\python37\\lib\\site-packages (from typer<0.4.0,>=0.3.0->spacy->bert-extractive-summarizer) (7.1.2)\n",
            "Requirement already satisfied: zipp>=0.5; python_version < \"3.8\" in c:\\users\\sukee\\appdata\\local\\programs\\python\\python37\\lib\\site-packages (from catalogue<2.1.0,>=2.0.3->spacy->bert-extractive-summarizer) (3.1.0)\n",
            "Requirement already satisfied: MarkupSafe>=0.23 in c:\\users\\sukee\\appdata\\local\\programs\\python\\python37\\lib\\site-packages (from jinja2->spacy->bert-extractive-summarizer) (1.1.1)\n",
            "Requirement already satisfied: idna<3,>=2.5 in c:\\users\\sukee\\appdata\\local\\programs\\python\\python37\\lib\\site-packages (from requests<3.0.0,>=2.13.0->spacy->bert-extractive-summarizer) (2.10)\n",
            "Requirement already satisfied: certifi>=2017.4.17 in c:\\users\\sukee\\appdata\\local\\programs\\python\\python37\\lib\\site-packages (from requests<3.0.0,>=2.13.0->spacy->bert-extractive-summarizer) (2020.12.5)\n",
            "Requirement already satisfied: urllib3<1.27,>=1.21.1 in c:\\users\\sukee\\appdata\\local\\programs\\python\\python37\\lib\\site-packages (from requests<3.0.0,>=2.13.0->spacy->bert-extractive-summarizer) (1.25.9)\n",
            "Requirement already satisfied: chardet<5,>=3.0.2 in c:\\users\\sukee\\appdata\\local\\programs\\python\\python37\\lib\\site-packages (from requests<3.0.0,>=2.13.0->spacy->bert-extractive-summarizer) (4.0.0)\n",
            "Requirement already satisfied: pyparsing>=2.0.2 in c:\\users\\sukee\\appdata\\local\\programs\\python\\python37\\lib\\site-packages (from packaging>=20.0->spacy->bert-extractive-summarizer) (2.4.7)\n",
            "Collecting smart-open<4.0.0,>=2.2.0\n",
            "  Using cached smart_open-3.0.0.tar.gz (113 kB)\n",
            "Requirement already satisfied: six in c:\\users\\sukee\\appdata\\local\\programs\\python\\python37\\lib\\site-packages (from sacremoses->transformers->bert-extractive-summarizer) (1.15.0)\n",
            "Using legacy setup.py install for smart-open, since package 'wheel' is not installed.\n",
            "Installing collected packages: typer, pydantic, catalogue, cymem, murmurhash, preshed, srsly, blis, wasabi, thinc, spacy-legacy, smart-open, pathy, spacy, threadpoolctl, scikit-learn, bert-extractive-summarizer\n",
            "  Attempting uninstall: wasabi\n",
            "    Found existing installation: wasabi 0.7.0\n",
            "    Uninstalling wasabi-0.7.0:\n",
            "      Successfully uninstalled wasabi-0.7.0\n",
            "  Attempting uninstall: smart-open\n",
            "    Found existing installation: smart-open 5.0.0\n",
            "    Uninstalling smart-open-5.0.0:\n",
            "      Successfully uninstalled smart-open-5.0.0\n",
            "    Running setup.py install for smart-open: started\n",
            "    Running setup.py install for smart-open: finished with status 'done'\n",
            "Successfully installed bert-extractive-summarizer-0.7.1 blis-0.7.4 catalogue-2.0.4 cymem-2.0.5 murmurhash-1.0.5 pathy-0.5.2 preshed-3.0.5 pydantic-1.7.4 scikit-learn-0.24.2 smart-open-3.0.0 spacy-3.0.6 spacy-legacy-3.0.5 srsly-2.4.1 thinc-8.0.3 threadpoolctl-2.1.0 typer-0.3.2 wasabi-0.8.2\n"
          ]
        },
        {
          "name": "stderr",
          "output_type": "stream",
          "text": [
            "WARNING: You are using pip version 20.1.1; however, version 21.1.1 is available.\n",
            "You should consider upgrading via the 'c:\\users\\sukee\\appdata\\local\\programs\\python\\python37\\python.exe -m pip install --upgrade pip' command.\n"
          ]
        },
        {
          "name": "stdout",
          "output_type": "stream",
          "text": [
            "Collecting spacy==2.1.3\n",
            "  Downloading spacy-2.1.3-cp37-cp37m-win_amd64.whl (26.9 MB)\n",
            "Collecting preshed<2.1.0,>=2.0.1\n",
            "  Downloading preshed-2.0.1-cp37-cp37m-win_amd64.whl (73 kB)\n",
            "Requirement already satisfied: murmurhash<1.1.0,>=0.28.0 in c:\\users\\sukee\\appdata\\local\\programs\\python\\python37\\lib\\site-packages (from spacy==2.1.3) (1.0.5)\n",
            "Collecting plac<1.0.0,>=0.9.6"
          ]
        },
        {
          "name": "stderr",
          "output_type": "stream",
          "text": [
            "WARNING: You are using pip version 20.1.1; however, version 21.1.1 is available.\n",
            "You should consider upgrading via the 'c:\\users\\sukee\\appdata\\local\\programs\\python\\python37\\python.exe -m pip install --upgrade pip' command.\n"
          ]
        },
        {
          "name": "stdout",
          "output_type": "stream",
          "text": [
            "\n",
            "  Downloading plac-0.9.6-py2.py3-none-any.whl (20 kB)\n",
            "Collecting thinc<7.1.0,>=7.0.2\n",
            "  Downloading thinc-7.0.8-cp37-cp37m-win_amd64.whl (1.9 MB)\n",
            "Collecting jsonschema<3.0.0,>=2.6.0\n",
            "  Downloading jsonschema-2.6.0-py2.py3-none-any.whl (39 kB)\n",
            "Requirement already satisfied: wasabi<1.1.0,>=0.2.0 in c:\\users\\sukee\\appdata\\local\\programs\\python\\python37\\lib\\site-packages (from spacy==2.1.3) (0.8.2)\n",
            "Collecting blis<0.3.0,>=0.2.2\n",
            "  Downloading blis-0.2.4-cp37-cp37m-win_amd64.whl (3.1 MB)\n",
            "Collecting srsly<1.1.0,>=0.0.5\n",
            "  Downloading srsly-1.0.5-cp37-cp37m-win_amd64.whl (176 kB)\n",
            "Requirement already satisfied: numpy>=1.15.0 in c:\\users\\sukee\\appdata\\local\\programs\\python\\python37\\lib\\site-packages (from spacy==2.1.3) (1.20.2)\n",
            "Requirement already satisfied: requests<3.0.0,>=2.13.0 in c:\\users\\sukee\\appdata\\local\\programs\\python\\python37\\lib\\site-packages (from spacy==2.1.3) (2.25.1)\n",
            "Requirement already satisfied: cymem<2.1.0,>=2.0.2 in c:\\users\\sukee\\appdata\\local\\programs\\python\\python37\\lib\\site-packages (from spacy==2.1.3) (2.0.5)\n",
            "Requirement already satisfied: tqdm<5.0.0,>=4.10.0 in c:\\users\\sukee\\appdata\\local\\programs\\python\\python37\\lib\\site-packages (from thinc<7.1.0,>=7.0.2->spacy==2.1.3) (4.46.1)\n",
            "Requirement already satisfied: idna<3,>=2.5 in c:\\users\\sukee\\appdata\\local\\programs\\python\\python37\\lib\\site-packages (from requests<3.0.0,>=2.13.0->spacy==2.1.3) (2.10)\n",
            "Requirement already satisfied: certifi>=2017.4.17 in c:\\users\\sukee\\appdata\\local\\programs\\python\\python37\\lib\\site-packages (from requests<3.0.0,>=2.13.0->spacy==2.1.3) (2020.12.5)\n",
            "Requirement already satisfied: chardet<5,>=3.0.2 in c:\\users\\sukee\\appdata\\local\\programs\\python\\python37\\lib\\site-packages (from requests<3.0.0,>=2.13.0->spacy==2.1.3) (4.0.0)\n",
            "Requirement already satisfied: urllib3<1.27,>=1.21.1 in c:\\users\\sukee\\appdata\\local\\programs\\python\\python37\\lib\\site-packages (from requests<3.0.0,>=2.13.0->spacy==2.1.3) (1.25.9)\n",
            "Installing collected packages: preshed, plac, srsly, blis, thinc, jsonschema, spacy\n",
            "  Attempting uninstall: preshed\n",
            "    Found existing installation: preshed 3.0.5\n",
            "    Uninstalling preshed-3.0.5:\n",
            "      Successfully uninstalled preshed-3.0.5\n",
            "  Attempting uninstall: srsly\n",
            "    Found existing installation: srsly 2.4.1\n",
            "    Uninstalling srsly-2.4.1:\n",
            "      Successfully uninstalled srsly-2.4.1\n",
            "  Attempting uninstall: blis\n",
            "    Found existing installation: blis 0.7.4\n",
            "    Uninstalling blis-0.7.4:\n",
            "      Successfully uninstalled blis-0.7.4\n",
            "  Attempting uninstall: thinc\n",
            "    Found existing installation: thinc 8.0.3\n",
            "    Uninstalling thinc-8.0.3:\n",
            "      Successfully uninstalled thinc-8.0.3\n",
            "  Attempting uninstall: jsonschema\n",
            "    Found existing installation: jsonschema 3.2.0\n",
            "    Uninstalling jsonschema-3.2.0:\n",
            "      Successfully uninstalled jsonschema-3.2.0\n",
            "  Attempting uninstall: spacy\n",
            "    Found existing installation: spacy 3.0.6\n",
            "    Uninstalling spacy-3.0.6:\n",
            "      Successfully uninstalled spacy-3.0.6\n",
            "Successfully installed blis-0.2.4 jsonschema-2.6.0 plac-0.9.6 preshed-2.0.1 spacy-2.1.3 srsly-1.0.5 thinc-7.0.8\n",
            "Collecting transformers==2.2.2\n",
            "  Downloading transformers-2.2.2-py3-none-any.whl (387 kB)\n",
            "Requirement already satisfied: sacremoses in c:\\users\\sukee\\appdata\\local\\programs\\python\\python37\\lib\\site-packages (from transformers==2.2.2) (0.0.45)\n",
            "Requirement already satisfied: sentencepiece in c:\\users\\sukee\\appdata\\local\\programs\\python\\python37\\lib\\site-packages (from transformers==2.2.2) (0.1.95)\n",
            "Requirement already satisfied: regex in c:\\users\\sukee\\appdata\\local\\programs\\python\\python37\\lib\\site-packages (from transformers==2.2.2) (2021.4.4)\n",
            "Requirement already satisfied: tqdm in c:\\users\\sukee\\appdata\\local\\programs\\python\\python37\\lib\\site-packages (from transformers==2.2.2) (4.46.1)\n",
            "Collecting boto3\n",
            "  Downloading boto3-1.17.74.tar.gz (98 kB)\n",
            "Requirement already satisfied: numpy in c:\\users\\sukee\\appdata\\local\\programs\\python\\python37\\lib\\site-packages (from transformers==2.2.2) (1.20.2)\n",
            "Requirement already satisfied: requests in c:\\users\\sukee\\appdata\\local\\programs\\python\\python37\\lib\\site-packages (from transformers==2.2.2) (2.25.1)\n",
            "Requirement already satisfied: joblib in c:\\users\\sukee\\appdata\\local\\programs\\python\\python37\\lib\\site-packages (from sacremoses->transformers==2.2.2) (1.0.1)\n",
            "Requirement already satisfied: click in c:\\users\\sukee\\appdata\\local\\programs\\python\\python37\\lib\\site-packages (from sacremoses->transformers==2.2.2) (7.1.2)\n",
            "Requirement already satisfied: six in c:\\users\\sukee\\appdata\\local\\programs\\python\\python37\\lib\\site-packages (from sacremoses->transformers==2.2.2) (1.15.0)\n",
            "Collecting botocore<1.21.0,>=1.20.74\n",
            "  Downloading botocore-1.20.74-py2.py3-none-any.whl (7.5 MB)\n"
          ]
        },
        {
          "name": "stderr",
          "output_type": "stream",
          "text": [
            "WARNING: You are using pip version 20.1.1; however, version 21.1.1 is available.\n",
            "You should consider upgrading via the 'c:\\users\\sukee\\appdata\\local\\programs\\python\\python37\\python.exe -m pip install --upgrade pip' command.\n"
          ]
        },
        {
          "name": "stdout",
          "output_type": "stream",
          "text": [
            "Collecting jmespath<1.0.0,>=0.7.1\n",
            "  Using cached jmespath-0.10.0-py2.py3-none-any.whl (24 kB)\n",
            "Collecting s3transfer<0.5.0,>=0.4.0\n",
            "  Downloading s3transfer-0.4.2-py2.py3-none-any.whl (79 kB)\n",
            "Requirement already satisfied: urllib3<1.27,>=1.21.1 in c:\\users\\sukee\\appdata\\local\\programs\\python\\python37\\lib\\site-packages (from requests->transformers==2.2.2) (1.25.9)\n",
            "Requirement already satisfied: idna<3,>=2.5 in c:\\users\\sukee\\appdata\\local\\programs\\python\\python37\\lib\\site-packages (from requests->transformers==2.2.2) (2.10)\n",
            "Requirement already satisfied: chardet<5,>=3.0.2 in c:\\users\\sukee\\appdata\\local\\programs\\python\\python37\\lib\\site-packages (from requests->transformers==2.2.2) (4.0.0)\n",
            "Requirement already satisfied: certifi>=2017.4.17 in c:\\users\\sukee\\appdata\\local\\programs\\python\\python37\\lib\\site-packages (from requests->transformers==2.2.2) (2020.12.5)\n",
            "Requirement already satisfied: python-dateutil<3.0.0,>=2.1 in c:\\users\\sukee\\appdata\\local\\programs\\python\\python37\\lib\\site-packages (from botocore<1.21.0,>=1.20.74->boto3->transformers==2.2.2) (2.8.1)\n",
            "Using legacy setup.py install for boto3, since package 'wheel' is not installed.\n",
            "Installing collected packages: jmespath, botocore, s3transfer, boto3, transformers\n",
            "    Running setup.py install for boto3: started\n",
            "    Running setup.py install for boto3: finished with status 'done'\n",
            "  Attempting uninstall: transformers\n",
            "    Found existing installation: transformers 2.11.0\n",
            "    Uninstalling transformers-2.11.0:\n",
            "      Successfully uninstalled transformers-2.11.0\n",
            "Successfully installed boto3-1.17.74 botocore-1.20.74 jmespath-0.10.0 s3transfer-0.4.2 transformers-2.2.2\n",
            "Collecting neuralcoref\n",
            "  Using cached neuralcoref-4.0-cp37-cp37m-win_amd64.whl (227 kB)\n",
            "Requirement already satisfied: numpy>=1.15.0 in c:\\users\\sukee\\appdata\\local\\programs\\python\\python37\\lib\\site-packages (from neuralcoref) (1.20.2)\n",
            "Requirement already satisfied: spacy>=2.1.0 in c:\\users\\sukee\\appdata\\local\\programs\\python\\python37\\lib\\site-packages (from neuralcoref) (2.1.3)\n",
            "Requirement already satisfied: requests<3.0.0,>=2.13.0 in c:\\users\\sukee\\appdata\\local\\programs\\python\\python37\\lib\\site-packages (from neuralcoref) (2.25.1)\n",
            "Requirement already satisfied: boto3 in c:\\users\\sukee\\appdata\\local\\programs\\python\\python37\\lib\\site-packages (from neuralcoref) (1.17.74)\n",
            "Requirement already satisfied: murmurhash<1.1.0,>=0.28.0 in c:\\users\\sukee\\appdata\\local\\programs\\python\\python37\\lib\\site-packages (from spacy>=2.1.0->neuralcoref) (1.0.5)\n",
            "Requirement already satisfied: wasabi<1.1.0,>=0.2.0 in c:\\users\\sukee\\appdata\\local\\programs\\python\\python37\\lib\\site-packages (from spacy>=2.1.0->neuralcoref) (0.8.2)\n",
            "Requirement already satisfied: thinc<7.1.0,>=7.0.2 in c:\\users\\sukee\\appdata\\local\\programs\\python\\python37\\lib\\site-packages (from spacy>=2.1.0->neuralcoref) (7.0.8)\n",
            "Requirement already satisfied: jsonschema<3.0.0,>=2.6.0 in c:\\users\\sukee\\appdata\\local\\programs\\python\\python37\\lib\\site-packages (from spacy>=2.1.0->neuralcoref) (2.6.0)\n",
            "Requirement already satisfied: plac<1.0.0,>=0.9.6 in c:\\users\\sukee\\appdata\\local\\programs\\python\\python37\\lib\\site-packages (from spacy>=2.1.0->neuralcoref) (0.9.6)\n",
            "Requirement already satisfied: srsly<1.1.0,>=0.0.5 in c:\\users\\sukee\\appdata\\local\\programs\\python\\python37\\lib\\site-packages (from spacy>=2.1.0->neuralcoref) (1.0.5)\n",
            "Requirement already satisfied: blis<0.3.0,>=0.2.2 in c:\\users\\sukee\\appdata\\local\\programs\\python\\python37\\lib\\site-packages (from spacy>=2.1.0->neuralcoref) (0.2.4)\n",
            "Requirement already satisfied: preshed<2.1.0,>=2.0.1 in c:\\users\\sukee\\appdata\\local\\programs\\python\\python37\\lib\\site-packages (from spacy>=2.1.0->neuralcoref) (2.0.1)\n",
            "Requirement already satisfied: cymem<2.1.0,>=2.0.2 in c:\\users\\sukee\\appdata\\local\\programs\\python\\python37\\lib\\site-packages (from spacy>=2.1.0->neuralcoref) (2.0.5)\n",
            "Requirement already satisfied: urllib3<1.27,>=1.21.1 in c:\\users\\sukee\\appdata\\local\\programs\\python\\python37\\lib\\site-packages (from requests<3.0.0,>=2.13.0->neuralcoref) (1.25.9)\n",
            "Requirement already satisfied: idna<3,>=2.5 in c:\\users\\sukee\\appdata\\local\\programs\\python\\python37\\lib\\site-packages (from requests<3.0.0,>=2.13.0->neuralcoref) (2.10)\n",
            "Requirement already satisfied: chardet<5,>=3.0.2 in c:\\users\\sukee\\appdata\\local\\programs\\python\\python37\\lib\\site-packages (from requests<3.0.0,>=2.13.0->neuralcoref) (4.0.0)\n",
            "Requirement already satisfied: certifi>=2017.4.17 in c:\\users\\sukee\\appdata\\local\\programs\\python\\python37\\lib\\site-packages (from requests<3.0.0,>=2.13.0->neuralcoref) (2020.12.5)\n",
            "Requirement already satisfied: botocore<1.21.0,>=1.20.74 in c:\\users\\sukee\\appdata\\local\\programs\\python\\python37\\lib\\site-packages (from boto3->neuralcoref) (1.20.74)\n",
            "Requirement already satisfied: jmespath<1.0.0,>=0.7.1 in c:\\users\\sukee\\appdata\\local\\programs\\python\\python37\\lib\\site-packages (from boto3->neuralcoref) (0.10.0)\n",
            "Requirement already satisfied: s3transfer<0.5.0,>=0.4.0 in c:\\users\\sukee\\appdata\\local\\programs\\python\\python37\\lib\\site-packages (from boto3->neuralcoref) (0.4.2)\n",
            "Requirement already satisfied: tqdm<5.0.0,>=4.10.0 in c:\\users\\sukee\\appdata\\local\\programs\\python\\python37\\lib\\site-packages (from thinc<7.1.0,>=7.0.2->spacy>=2.1.0->neuralcoref) (4.46.1)\n",
            "Requirement already satisfied: python-dateutil<3.0.0,>=2.1 in c:\\users\\sukee\\appdata\\local\\programs\\python\\python37\\lib\\site-packages (from botocore<1.21.0,>=1.20.74->boto3->neuralcoref) (2.8.1)\n",
            "Requirement already satisfied: six>=1.5 in c:\\users\\sukee\\appdata\\local\\programs\\python\\python37\\lib\\site-packages (from python-dateutil<3.0.0,>=2.1->botocore<1.21.0,>=1.20.74->boto3->neuralcoref) (1.15.0)\n",
            "Installing collected packages: neuralcoref\n",
            "Successfully installed neuralcoref-4.0\n"
          ]
        },
        {
          "name": "stderr",
          "output_type": "stream",
          "text": [
            "WARNING: You are using pip version 20.1.1; however, version 21.1.1 is available.\n",
            "You should consider upgrading via the 'c:\\users\\sukee\\appdata\\local\\programs\\python\\python37\\python.exe -m pip install --upgrade pip' command.\n",
            "ERROR: Invalid requirement: '#you'\n",
            "WARNING: You are using pip version 20.1.1; however, version 21.1.1 is available.\n",
            "You should consider upgrading via the 'c:\\users\\sukee\\appdata\\local\\programs\\python\\python37\\python.exe -m pip install --upgrade pip' command.\n"
          ]
        },
        {
          "name": "stdout",
          "output_type": "stream",
          "text": [
            "Requirement already satisfied: neuralcoref in c:\\users\\sukee\\appdata\\local\\programs\\python\\python37\\lib\\site-packages (4.0)\n",
            "Requirement already satisfied: boto3 in c:\\users\\sukee\\appdata\\local\\programs\\python\\python37\\lib\\site-packages (from neuralcoref) (1.17.74)\n",
            "Requirement already satisfied: spacy>=2.1.0 in c:\\users\\sukee\\appdata\\local\\programs\\python\\python37\\lib\\site-packages (from neuralcoref) (2.1.3)\n",
            "Requirement already satisfied: requests<3.0.0,>=2.13.0 in c:\\users\\sukee\\appdata\\local\\programs\\python\\python37\\lib\\site-packages (from neuralcoref) (2.25.1)\n",
            "Requirement already satisfied: numpy>=1.15.0 in c:\\users\\sukee\\appdata\\local\\programs\\python\\python37\\lib\\site-packages (from neuralcoref) (1.20.2)\n",
            "Requirement already satisfied: botocore<1.21.0,>=1.20.74 in c:\\users\\sukee\\appdata\\local\\programs\\python\\python37\\lib\\site-packages (from boto3->neuralcoref) (1.20.74)\n",
            "Requirement already satisfied: jmespath<1.0.0,>=0.7.1 in c:\\users\\sukee\\appdata\\local\\programs\\python\\python37\\lib\\site-packages (from boto3->neuralcoref) (0.10.0)\n",
            "Requirement already satisfied: s3transfer<0.5.0,>=0.4.0 in c:\\users\\sukee\\appdata\\local\\programs\\python\\python37\\lib\\site-packages (from boto3->neuralcoref) (0.4.2)\n",
            "Requirement already satisfied: murmurhash<1.1.0,>=0.28.0 in c:\\users\\sukee\\appdata\\local\\programs\\python\\python37\\lib\\site-packages (from spacy>=2.1.0->neuralcoref) (1.0.5)\n",
            "Requirement already satisfied: srsly<1.1.0,>=0.0.5 in c:\\users\\sukee\\appdata\\local\\programs\\python\\python37\\lib\\site-packages (from spacy>=2.1.0->neuralcoref) (1.0.5)\n",
            "Requirement already satisfied: blis<0.3.0,>=0.2.2 in c:\\users\\sukee\\appdata\\local\\programs\\python\\python37\\lib\\site-packages (from spacy>=2.1.0->neuralcoref) (0.2.4)\n",
            "Requirement already satisfied: plac<1.0.0,>=0.9.6 in c:\\users\\sukee\\appdata\\local\\programs\\python\\python37\\lib\\site-packages (from spacy>=2.1.0->neuralcoref) (0.9.6)\n",
            "Requirement already satisfied: jsonschema<3.0.0,>=2.6.0 in c:\\users\\sukee\\appdata\\local\\programs\\python\\python37\\lib\\site-packages (from spacy>=2.1.0->neuralcoref) (2.6.0)\n",
            "Requirement already satisfied: cymem<2.1.0,>=2.0.2 in c:\\users\\sukee\\appdata\\local\\programs\\python\\python37\\lib\\site-packages (from spacy>=2.1.0->neuralcoref) (2.0.5)\n",
            "Requirement already satisfied: wasabi<1.1.0,>=0.2.0 in c:\\users\\sukee\\appdata\\local\\programs\\python\\python37\\lib\\site-packages (from spacy>=2.1.0->neuralcoref) (0.8.2)\n",
            "Requirement already satisfied: preshed<2.1.0,>=2.0.1 in c:\\users\\sukee\\appdata\\local\\programs\\python\\python37\\lib\\site-packages (from spacy>=2.1.0->neuralcoref) (2.0.1)\n",
            "Requirement already satisfied: thinc<7.1.0,>=7.0.2 in c:\\users\\sukee\\appdata\\local\\programs\\python\\python37\\lib\\site-packages (from spacy>=2.1.0->neuralcoref) (7.0.8)\n",
            "Requirement already satisfied: urllib3<1.27,>=1.21.1 in c:\\users\\sukee\\appdata\\local\\programs\\python\\python37\\lib\\site-packages (from requests<3.0.0,>=2.13.0->neuralcoref) (1.25.9)\n",
            "Requirement already satisfied: idna<3,>=2.5 in c:\\users\\sukee\\appdata\\local\\programs\\python\\python37\\lib\\site-packages (from requests<3.0.0,>=2.13.0->neuralcoref) (2.10)\n",
            "Requirement already satisfied: certifi>=2017.4.17 in c:\\users\\sukee\\appdata\\local\\programs\\python\\python37\\lib\\site-packages (from requests<3.0.0,>=2.13.0->neuralcoref) (2020.12.5)\n",
            "Requirement already satisfied: chardet<5,>=3.0.2 in c:\\users\\sukee\\appdata\\local\\programs\\python\\python37\\lib\\site-packages (from requests<3.0.0,>=2.13.0->neuralcoref) (4.0.0)\n",
            "Requirement already satisfied: python-dateutil<3.0.0,>=2.1 in c:\\users\\sukee\\appdata\\local\\programs\\python\\python37\\lib\\site-packages (from botocore<1.21.0,>=1.20.74->boto3->neuralcoref) (2.8.1)\n",
            "Requirement already satisfied: tqdm<5.0.0,>=4.10.0 in c:\\users\\sukee\\appdata\\local\\programs\\python\\python37\\lib\\site-packages (from thinc<7.1.0,>=7.0.2->spacy>=2.1.0->neuralcoref) (4.46.1)\n",
            "Requirement already satisfied: six>=1.5 in c:\\users\\sukee\\appdata\\local\\programs\\python\\python37\\lib\\site-packages (from python-dateutil<3.0.0,>=2.1->botocore<1.21.0,>=1.20.74->boto3->neuralcoref) (1.15.0)\n"
          ]
        },
        {
          "name": "stderr",
          "output_type": "stream",
          "text": [
            "WARNING: You are using pip version 20.1.1; however, version 21.1.1 is available.\n",
            "You should consider upgrading via the 'c:\\users\\sukee\\appdata\\local\\programs\\python\\python37\\python.exe -m pip install --upgrade pip' command.\n"
          ]
        },
        {
          "name": "stdout",
          "output_type": "stream",
          "text": [
            "Collecting en_core_web_sm==2.1.0\n",
            "  Downloading https://github.com/explosion/spacy-models/releases/download/en_core_web_sm-2.1.0/en_core_web_sm-2.1.0.tar.gz (11.1 MB)\n",
            "Using legacy setup.py install for en-core-web-sm, since package 'wheel' is not installed.\n",
            "Installing collected packages: en-core-web-sm\n",
            "    Running setup.py install for en-core-web-sm: started\n",
            "    Running setup.py install for en-core-web-sm: finished with status 'done'\n",
            "Successfully installed en-core-web-sm-2.1.0\n",
            "[+] Download and installation successful\n",
            "You can now load the model via spacy.load('en_core_web_sm')\n"
          ]
        },
        {
          "name": "stderr",
          "output_type": "stream",
          "text": [
            "WARNING: You are using pip version 20.1.1; however, version 21.1.1 is available.\n",
            "You should consider upgrading via the 'C:\\Users\\sukee\\AppData\\Local\\Programs\\Python\\Python37\\python.exe -m pip install --upgrade pip' command.\n"
          ]
        }
      ],
      "source": [
        "#Install the required libraries\n",
        "!pip install bert-extractive-summarizer\n",
        "!pip install spacy==2.1.3\n",
        "!pip install transformers==2.2.2\n",
        "!pip install neuralcoref\n",
        "!pip install torch #you can comment this line if u already have tensorflow2.0 installed\n",
        "!pip install neuralcoref --no-binary neuralcoref\n",
        "!python -m spacy download en_core_web_sm"
      ]
    },
    {
      "cell_type": "code",
      "execution_count": null,
      "metadata": {
        "id": "aAmOJjZvB0VX",
        "outputId": "e875e731-e434-49e6-f49c-87d0ca0c699a"
      },
      "outputs": [
        {
          "name": "stdout",
          "output_type": "stream",
          "text": [
            "Without Coreference:\n",
            "The authors claimed that within three or five years, machine translation would be a solved problem.[2] However, real progress was much slower, and after the ALPAC report in 1966, which found that ten-year-long research had failed to fulfill the expectations, funding for machine translation was dramatically reduced. This was due to both the steady increase in computational power (see Moore's law) and the gradual lessening of the dominance of Chomskyan theories of linguistics (e.g. transformational grammar), whose theoretical underpinnings discouraged the sort of corpus linguistics that underlies the machine-learning approach to language processing.[3] Some of the earliest-used machine learning algorithms, such as decision trees, produced systems of hard if-then rules similar to existing hand-written rules.\n",
            "With Coreference:\n",
            "However, real progress was much slower, and after the ALPAC report in 1966, which found that ten-year-long research had failed to fulfill the expectations, funding for machine translation was dramatically reduced. This was due to both the steady increase in computational power (see Moore's law) and the gradual lessening of the dominance of Chomskyan theories of linguistics (e.g. transformational grammar), whose theoretical underpinnings discouraged the sort of corpus linguistics that underlies the machine-learning approach to language processing.[3]\n"
          ]
        }
      ],
      "source": [
        "#sowyma could you please look at this coreference vs without coreference. I personally think we need to use a better input.\n",
        "#currently using the same one as above the nlphistory.txt\n",
        "\n",
        "from summarizer import Summarizer\n",
        "from summarizer.coreference_handler import CoreferenceHandler\n",
        "\n",
        "model = Summarizer()\n",
        "\n",
        "print(\"Without Coreference:\")\n",
        "result = model(text, min_length=200,ratio=0.01)\n",
        "full = ''.join(result)\n",
        "print(full)\n",
        "\n",
        "\n",
        "print(\"With Coreference:\")\n",
        "handler = CoreferenceHandler(greedyness=.35)\n",
        "\n",
        "model = Summarizer(sentence_handler=handler)\n",
        "result = model(text, min_length=200,ratio=0.01)\n",
        "full = ''.join(result)\n",
        "print(full)"
      ]
    },
    {
      "cell_type": "markdown",
      "metadata": {
        "id": "5OwLSKz0B0Vx"
      },
      "source": [
        "We are done with discussing different Extractive Summarization techniques and examples. Lets move on to Abstractive Summarization.\n",
        "## Abstractive Summariazation\n",
        "There have been even efforts to use **RL** for summarization.<br>\n",
        "The past few years **RNN**s using encoder — decoder models have become popular for abstractive summarization. <br>\n",
        "Recently **Transformers** which use attention mechanism have become popular for abstractive summarization. \n",
        "\n",
        "As mentioned in Ch7  abstractive summarization is more of a research topic than a practical application. \n",
        "\n",
        "We will demo simple abstractive text summarization with pretrained T5 — Text-To-Text Transfer Transformer."
      ]
    },
    {
      "cell_type": "code",
      "execution_count": null,
      "metadata": {
        "colab": {
          "base_uri": "https://localhost:8080/",
          "height": 364
        },
        "id": "94W3znKkB0V0",
        "outputId": "a0ddec6f-8282-416f-c462-381db55e6083"
      },
      "outputs": [
        {
          "name": "stdout",
          "output_type": "stream",
          "text": [
            "Requirement already satisfied: transformers in c:\\users\\sukee\\appdata\\local\\programs\\python\\python37\\lib\\site-packages (2.2.2)"
          ]
        },
        {
          "name": "stderr",
          "output_type": "stream",
          "text": [
            "WARNING: You are using pip version 20.1.1; however, version 21.1.1 is available.\n",
            "You should consider upgrading via the 'c:\\users\\sukee\\appdata\\local\\programs\\python\\python37\\python.exe -m pip install --upgrade pip' command.\n"
          ]
        },
        {
          "name": "stdout",
          "output_type": "stream",
          "text": [
            "\n",
            "Requirement already satisfied: numpy in c:\\users\\sukee\\appdata\\local\\programs\\python\\python37\\lib\\site-packages (from transformers) (1.20.2)\n",
            "Requirement already satisfied: requests in c:\\users\\sukee\\appdata\\local\\programs\\python\\python37\\lib\\site-packages (from transformers) (2.25.1)\n",
            "Requirement already satisfied: sentencepiece in c:\\users\\sukee\\appdata\\local\\programs\\python\\python37\\lib\\site-packages (from transformers) (0.1.95)\n",
            "Requirement already satisfied: boto3 in c:\\users\\sukee\\appdata\\local\\programs\\python\\python37\\lib\\site-packages (from transformers) (1.17.74)\n",
            "Requirement already satisfied: tqdm in c:\\users\\sukee\\appdata\\local\\programs\\python\\python37\\lib\\site-packages (from transformers) (4.46.1)\n",
            "Requirement already satisfied: sacremoses in c:\\users\\sukee\\appdata\\local\\programs\\python\\python37\\lib\\site-packages (from transformers) (0.0.45)\n",
            "Requirement already satisfied: regex in c:\\users\\sukee\\appdata\\local\\programs\\python\\python37\\lib\\site-packages (from transformers) (2021.4.4)\n",
            "Requirement already satisfied: idna<3,>=2.5 in c:\\users\\sukee\\appdata\\local\\programs\\python\\python37\\lib\\site-packages (from requests->transformers) (2.10)\n",
            "Requirement already satisfied: urllib3<1.27,>=1.21.1 in c:\\users\\sukee\\appdata\\local\\programs\\python\\python37\\lib\\site-packages (from requests->transformers) (1.25.9)\n",
            "Requirement already satisfied: chardet<5,>=3.0.2 in c:\\users\\sukee\\appdata\\local\\programs\\python\\python37\\lib\\site-packages (from requests->transformers) (4.0.0)\n",
            "Requirement already satisfied: certifi>=2017.4.17 in c:\\users\\sukee\\appdata\\local\\programs\\python\\python37\\lib\\site-packages (from requests->transformers) (2020.12.5)\n",
            "Requirement already satisfied: botocore<1.21.0,>=1.20.74 in c:\\users\\sukee\\appdata\\local\\programs\\python\\python37\\lib\\site-packages (from boto3->transformers) (1.20.74)\n",
            "Requirement already satisfied: jmespath<1.0.0,>=0.7.1 in c:\\users\\sukee\\appdata\\local\\programs\\python\\python37\\lib\\site-packages (from boto3->transformers) (0.10.0)\n",
            "Requirement already satisfied: s3transfer<0.5.0,>=0.4.0 in c:\\users\\sukee\\appdata\\local\\programs\\python\\python37\\lib\\site-packages (from boto3->transformers) (0.4.2)\n",
            "Requirement already satisfied: joblib in c:\\users\\sukee\\appdata\\local\\programs\\python\\python37\\lib\\site-packages (from sacremoses->transformers) (1.0.1)\n",
            "Requirement already satisfied: six in c:\\users\\sukee\\appdata\\local\\programs\\python\\python37\\lib\\site-packages (from sacremoses->transformers) (1.15.0)\n",
            "Requirement already satisfied: click in c:\\users\\sukee\\appdata\\local\\programs\\python\\python37\\lib\\site-packages (from sacremoses->transformers) (7.1.2)\n",
            "Requirement already satisfied: python-dateutil<3.0.0,>=2.1 in c:\\users\\sukee\\appdata\\local\\programs\\python\\python37\\lib\\site-packages (from botocore<1.21.0,>=1.20.74->boto3->transformers) (2.8.1)\n",
            "Requirement already satisfied: torch in c:\\users\\sukee\\appdata\\local\\programs\\python\\python37\\lib\\site-packages (1.5.1+cpu)"
          ]
        },
        {
          "name": "stderr",
          "output_type": "stream",
          "text": [
            "WARNING: You are using pip version 20.1.1; however, version 21.1.1 is available.\n",
            "You should consider upgrading via the 'c:\\users\\sukee\\appdata\\local\\programs\\python\\python37\\python.exe -m pip install --upgrade pip' command.\n"
          ]
        },
        {
          "name": "stdout",
          "output_type": "stream",
          "text": [
            "\n",
            "Requirement already satisfied: future in c:\\users\\sukee\\appdata\\local\\programs\\python\\python37\\lib\\site-packages (from torch) (0.18.2)\n",
            "Requirement already satisfied: numpy in c:\\users\\sukee\\appdata\\local\\programs\\python\\python37\\lib\\site-packages (from torch) (1.20.2)\n"
          ]
        }
      ],
      "source": [
        "!pip install transformers\n",
        "!pip install torch"
      ]
    },
    {
      "cell_type": "code",
      "execution_count": null,
      "metadata": {
        "colab": {
          "base_uri": "https://localhost:8080/",
          "height": 141
        },
        "id": "Z7sj1wDtGz5r",
        "outputId": "2f24608f-4492-4d97-cd92-88c1aa3f19b3"
      },
      "outputs": [
        {
          "name": "stdout",
          "output_type": "stream",
          "text": [
            "original text preprocessed: \n",
            " don’t build your own MT system if you don’t have to. It is more practical to make use of the translation APIs. When we use such APIs, it is important to pay closer attention to pricing policies. It would perhaps make sense to store the translations of frequently used text (called a translation memory or a translation cache). If you’re working with a entirely new language, or say a new domain where existing translation APIs do poorly, it would make sense to start with a domain knowledge based rule based translation system addressing the restricted scenario you deal with. Another approach to address such data scarce scenarios is to augment your training data by doing “back translation”. Let us say we want to translate from English to Navajo language. English is a popular language for MT, but Navajo is not. We do have a few examples of English-Navajo translation. In such a case, one can build a first MT model between Navajo-English, and use this system to translate a few Navajo sentences into English. At this point, these machine translated Navajo-English pairs can be added as additional training data to English-Navajo MT system. This results in a translation system with more examples to train on (even though some of these examples are synthetic). In general, though, if accuracy of translation is paramount, it would perhaps make sense to form a hybrid MT system which combines the neural models with rules and some form of post-processing, though.\n",
            "\n",
            "\n",
            "Summarized text: \n",
            " MT system is more practical to make use of the translation APIs. it would make sense to store translations of frequently used text (called translation memory or a translation cache)\n"
          ]
        }
      ],
      "source": [
        "import torch\n",
        "from transformers import T5Tokenizer, T5ForConditionalGeneration, T5Config\n",
        "\n",
        "model = T5ForConditionalGeneration.from_pretrained('t5-small')\n",
        "tokenizer = T5Tokenizer.from_pretrained('t5-small')\n",
        "\n",
        "device = torch.device('cpu')\n",
        "\n",
        "text =\"\"\"\n",
        "don’t build your own MT system if you don’t have to. It is more practical to make use of the translation APIs. When we use such APIs, it is important to pay closer attention to pricing policies. It would perhaps make sense to store the translations of frequently used text (called a translation memory or a translation cache). \n",
        "\n",
        "If you’re working with a entirely new language, or say a new domain where existing translation APIs do poorly, it would make sense to start with a domain knowledge based rule based translation system addressing the restricted scenario you deal with. Another approach to address such data scarce scenarios is to augment your training data by doing “back translation”. Let us say we want to translate from English to Navajo language. English is a popular language for MT, but Navajo is not. We do have a few examples of English-Navajo translation. In such a case, one can build a first MT model between Navajo-English, and use this system to translate a few Navajo sentences into English. At this point, these machine translated Navajo-English pairs can be added as additional training data to English-Navajo MT system. This results in a translation system with more examples to train on (even though some of these examples are synthetic). In general, though, if accuracy of translation is paramount, it would perhaps make sense to form a hybrid MT system which combines the neural models with rules and some form of post-processing, though. \n",
        "\n",
        "\"\"\"\n",
        "\n",
        "\n",
        "preprocess_text = text.strip().replace(\"\\n\",\"\")\n",
        "t5_prepared_Text = \"summarize: \"+preprocess_text\n",
        "print (\"original text preprocessed: \\n\", preprocess_text)\n",
        "\n",
        "tokenized_text = tokenizer.encode(t5_prepared_Text, return_tensors=\"pt\").to(device)\n",
        "\n",
        "\n",
        "# summmarize \n",
        "summary_ids = model.generate(tokenized_text,\n",
        "                                    num_beams=4,\n",
        "                                    no_repeat_ngram_size=2,\n",
        "                                    min_length=30,\n",
        "                                    max_length=100,\n",
        "                                    early_stopping=True)\n",
        "#there are more parameters which can be found at https://huggingface.co/transformers/model_doc/t5.html\n",
        "\n",
        "output = tokenizer.decode(summary_ids[0], skip_special_tokens=True)\n",
        "\n",
        "print (\"\\n\\nSummarized text: \\n\",output)"
      ]
    }
  ],
  "metadata": {
    "accelerator": "GPU",
    "colab": {
      "name": "03_TextSummarization.ipynb",
      "provenance": [],
      "include_colab_link": true
    },
    "kernelspec": {
      "display_name": "Python 3",
      "language": "python",
      "name": "python3"
    },
    "language_info": {
      "codemirror_mode": {
        "name": "ipython",
        "version": 3
      },
      "file_extension": ".py",
      "mimetype": "text/x-python",
      "name": "python",
      "nbconvert_exporter": "python",
      "pygments_lexer": "ipython3",
      "version": "3.7.9"
    }
  },
  "nbformat": 4,
  "nbformat_minor": 0
}