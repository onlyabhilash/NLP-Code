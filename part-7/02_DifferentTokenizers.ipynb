{
  "cells": [
    {
      "cell_type": "markdown",
      "metadata": {
        "id": "view-in-github",
        "colab_type": "text"
      },
      "source": [
        "<a href=\"https://colab.research.google.com/github/onlyabhilash/NLP-Code/blob/main/part-7/02_DifferentTokenizers.ipynb\" target=\"_parent\"><img src=\"https://colab.research.google.com/assets/colab-badge.svg\" alt=\"Open In Colab\"/></a>"
      ]
    },
    {
      "cell_type": "code",
      "execution_count": null,
      "metadata": {
        "colab": {
          "base_uri": "https://localhost:8080/",
          "height": 347
        },
        "id": "IMBIGpxdvSUX",
        "outputId": "1db4d427-4eeb-4a10-c648-5be07a3e8a16"
      },
      "outputs": [
        {
          "name": "stdout",
          "output_type": "stream",
          "text": [
            "Collecting twikenizer\n",
            "  Downloading https://files.pythonhosted.org/packages/d2/51/7aee33630b948f0716efae7a96c4fd8f859b348694058c380fd899a4227e/twikenizer-1.0.tar.gz\n",
            "Installing collected packages: twikenizer\n",
            "  Running setup.py install for twikenizer: started\n",
            "    Running setup.py install for twikenizer: finished with status 'done'\n",
            "Successfully installed twikenizer-1.0\n"
          ]
        },
        {
          "name": "stderr",
          "output_type": "stream",
          "text": [
            "You are using pip version 19.0.3, however version 21.1.2 is available.\n",
            "You should consider upgrading via the 'python -m pip install --upgrade pip' command.\n"
          ]
        },
        {
          "name": "stdout",
          "output_type": "stream",
          "text": [
            "Collecting emoji\n",
            "  Downloading https://files.pythonhosted.org/packages/24/fa/b3368f41b95a286f8d300e323449ab4e86b85334c2e0b477e94422b8ed0f/emoji-1.2.0-py3-none-any.whl (131kB)\n",
            "Installing collected packages: emoji\n",
            "Successfully installed emoji-1.2.0\n"
          ]
        },
        {
          "name": "stderr",
          "output_type": "stream",
          "text": [
            "You are using pip version 19.0.3, however version 21.1.2 is available.\n",
            "You should consider upgrading via the 'python -m pip install --upgrade pip' command.\n"
          ]
        }
      ],
      "source": [
        "!pip install twikenizer\n",
        "!pip install emoji"
      ]
    },
    {
      "cell_type": "code",
      "execution_count": null,
      "metadata": {
        "id": "Bbb26h3YduGi"
      },
      "outputs": [],
      "source": [
        "tweet3 = 'Tw33t a_!aa&!a?b #%lol # @dude_really #b3st_day $ad (b@e) (beep#d) @dude. 😀😀 !😀abc %😀lol #loveit #love.it $%&/ d*ck-'"
      ]
    },
    {
      "cell_type": "code",
      "execution_count": null,
      "metadata": {
        "colab": {
          "base_uri": "https://localhost:8080/",
          "height": 54
        },
        "id": "hvkNxqYQd9f6",
        "outputId": "f05bfaf1-caab-445f-9982-e02ee4ea7e3f"
      },
      "outputs": [
        {
          "name": "stdout",
          "output_type": "stream",
          "text": [
            "['Tw33t', 'a', '_', '!', 'aa', '&', '!', 'a', '?', 'b', '#%lol', '#', '@dude_really', '#b3st_day', '$ad', '(', 'b', '@', 'e', ')', '(', 'beep', '#', 'd', ')', '@dude', '.', '😀', '😀', '!', '😀', 'abc', '%', '😀', 'lol', '#loveit', '#love', '.', 'it', '$', '%', '&', '/', 'd*ck', '-']\n"
          ]
        }
      ],
      "source": [
        "import twikenizer as twk\n",
        "twk = twk.Twikenizer()\n",
        "print(twk.tokenize(tweet3))"
      ]
    },
    {
      "cell_type": "code",
      "execution_count": null,
      "metadata": {
        "colab": {
          "base_uri": "https://localhost:8080/",
          "height": 54
        },
        "id": "YQsVP30nqXn2",
        "outputId": "e6456391-06d4-4d10-b1e7-05a03362e7a1"
      },
      "outputs": [
        {
          "name": "stdout",
          "output_type": "stream",
          "text": [
            "['Tw33t', 'a_', '!', 'aa', '&', '!', 'a', '?', 'b', '#', '%', 'lol', '#', '@dude_really', '#b3st_day', '$', 'ad', '(', 'b', '@e', ')', '(', 'beep', '#', 'd', ')', '@dude', '.', '😀', '😀', '!', '😀', 'abc', '%', '😀', 'lol', '#loveit', '#love', '.', 'it', '$', '%', '&', '/', 'd', '*', 'ck', '-']\n"
          ]
        }
      ],
      "source": [
        "from nltk.tokenize import TweetTokenizer\n",
        "tknzr = TweetTokenizer()\n",
        "print(tknzr.tokenize(tweet3))"
      ]
    }
  ],
  "metadata": {
    "colab": {
      "name": "02_DifferentTokenizers.ipynb",
      "provenance": [],
      "include_colab_link": true
    },
    "kernelspec": {
      "display_name": "Python 3",
      "language": "python",
      "name": "python3"
    },
    "language_info": {
      "codemirror_mode": {
        "name": "ipython",
        "version": 3
      },
      "file_extension": ".py",
      "mimetype": "text/x-python",
      "name": "python",
      "nbconvert_exporter": "python",
      "pygments_lexer": "ipython3",
      "version": "3.7.4"
    }
  },
  "nbformat": 4,
  "nbformat_minor": 0
}