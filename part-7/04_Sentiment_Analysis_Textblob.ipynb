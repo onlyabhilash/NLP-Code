{
  "cells": [
    {
      "cell_type": "markdown",
      "metadata": {
        "id": "view-in-github",
        "colab_type": "text"
      },
      "source": [
        "<a href=\"https://colab.research.google.com/github/onlyabhilash/NLP-Code/blob/main/part-7/04_Sentiment_Analysis_Textblob.ipynb\" target=\"_parent\"><img src=\"https://colab.research.google.com/assets/colab-badge.svg\" alt=\"Open In Colab\"/></a>"
      ]
    },
    {
      "cell_type": "markdown",
      "metadata": {
        "id": "aYjtnkWINc2Y"
      },
      "source": [
        "In this notebook we demonstrate a basic text classifier using [Textblob.](https://textblob.readthedocs.io/en/dev/) . "
      ]
    },
    {
      "cell_type": "code",
      "execution_count": null,
      "metadata": {
        "colab": {
          "base_uri": "https://localhost:8080/",
          "height": 34
        },
        "id": "spAkPPa0LJme",
        "outputId": "2ad2c9cd-e5f4-4510-e1dd-621161c02032"
      },
      "outputs": [
        {
          "name": "stdout",
          "output_type": "stream",
          "text": [
            "Index(['id', 'polarity', 'tweet'], dtype='object')\n"
          ]
        }
      ],
      "source": [
        "# Load the dataset.\n",
        "\n",
        "import pandas as pd\n",
        "df = pd.read_csv(\"Data/sts_gold_tweet.csv\",error_bad_lines=False,delimiter=\";\")\n",
        "print(df.columns)\n",
        "\n",
        "# Make a list of all the tweets.\n",
        "\n",
        "tweets_text_collection = list(df['tweet'])"
      ]
    },
    {
      "cell_type": "code",
      "execution_count": null,
      "metadata": {
        "colab": {
          "base_uri": "https://localhost:8080/",
          "height": 1000
        },
        "id": "mBPraZ2FLnX7",
        "outputId": "c719024a-b44a-48f7-dcc6-59923e0f7740"
      },
      "outputs": [
        {
          "name": "stdout",
          "output_type": "stream",
          "text": [
            "Defaulting to user installation because normal site-packages is not writeable\n",
            "Requirement already satisfied: textblob in c:\\users\\sukeerat\\appdata\\roaming\\python\\python39\\site-packages (0.15.3)\n",
            "Requirement already satisfied: nltk>=3.1 in c:\\users\\sukeerat\\appdata\\roaming\\python\\python39\\site-packages (from textblob) (3.6.2)\n",
            "Requirement already satisfied: click in c:\\users\\sukeerat\\appdata\\roaming\\python\\python39\\site-packages (from nltk>=3.1->textblob) (8.0.1)\n",
            "Requirement already satisfied: joblib in c:\\users\\sukeerat\\appdata\\roaming\\python\\python39\\site-packages (from nltk>=3.1->textblob) (1.0.1)\n",
            "Requirement already satisfied: regex in c:\\users\\sukeerat\\appdata\\roaming\\python\\python39\\site-packages (from nltk>=3.1->textblob) (2021.4.4)\n",
            "Requirement already satisfied: tqdm in c:\\users\\sukeerat\\appdata\\roaming\\python\\python39\\site-packages (from nltk>=3.1->textblob) (4.61.1)\n",
            "Requirement already satisfied: colorama in c:\\users\\sukeerat\\appdata\\roaming\\python\\python39\\site-packages (from click->nltk>=3.1->textblob) (0.4.4)\n",
            "the angel is going to miss the athlete this weekend \n",
            "Sentiment(polarity=0.0, subjectivity=0.0)\n",
            "--------------------\n",
            "It looks as though Shaq is getting traded to Cleveland to play w/ LeBron... Too bad for Suns' fans. The Big Cactus is no more \n",
            "Sentiment(polarity=-0.3166666666666666, subjectivity=0.4222222222222222)\n",
            "--------------------\n",
            "@clarianne APRIL 9TH ISN'T COMING SOON ENOUGH \n",
            "Sentiment(polarity=0.0, subjectivity=0.5)\n",
            "--------------------\n",
            "drinking a McDonalds coffee and not understanding why someone would hurt me for no apparent reason. \n",
            "Sentiment(polarity=-0.025, subjectivity=0.35)\n",
            "--------------------\n",
            "So dissapointed Taylor Swift doesnt have a Twitter \n",
            "Sentiment(polarity=0.0, subjectivity=0.0)\n",
            "--------------------\n",
            "Wishes I was on the Spring Fling Tour with Dawn &amp; neecee Sigh  G'knight\n",
            "Sentiment(polarity=0.0, subjectivity=0.0)\n",
            "--------------------\n",
            "got a sniffle, got the kids and hubby just left to work in Sydney for the weekend, boo hoo \n",
            "Sentiment(polarity=0.0, subjectivity=0.0)\n",
            "--------------------\n",
            "i've only been in sydney for 3 hrs but I miss my friends  especially @ktjade!!!\n",
            "Sentiment(polarity=0.0, subjectivity=1.0)\n",
            "--------------------\n",
            "xboxtweet not working again \n",
            "Sentiment(polarity=0.0, subjectivity=0.0)\n",
            "--------------------\n",
            "R.I.P to lebron/kobe puppet commercials... \n",
            "Sentiment(polarity=0.0, subjectivity=0.0)\n",
            "--------------------\n",
            "Allergies sucks sometimes. Theres a super adorable 9 month old beagle named Sydney hanging out with my roomie and his friend. Can't pet. \n",
            "Sentiment(polarity=0.15833333333333333, subjectivity=0.5416666666666666)\n",
            "--------------------\n",
            "has a broken iphone \n",
            "Sentiment(polarity=-0.4, subjectivity=0.4)\n",
            "--------------------\n",
            "Line at McDonalds was too long so I can't get my sausage biscuit on \n",
            "Sentiment(polarity=-0.05, subjectivity=0.4)\n",
            "--------------------\n",
            "@stephnewby there is a virus going around  congestion, throw up, &amp; high fever\n",
            "Sentiment(polarity=0.16, subjectivity=0.5399999999999999)\n",
            "--------------------\n",
            "I scratched my iPod \n",
            "Sentiment(polarity=0.0, subjectivity=0.0)\n",
            "--------------------\n",
            "I don't understand... I really don't \n",
            "Sentiment(polarity=0.2, subjectivity=0.2)\n",
            "--------------------\n",
            "@Rove1974 @Pink is our hero too! Love her! Wanna go see her in Brisvegas again but sadly my bank balance wont let me \n",
            "Sentiment(polarity=0.0, subjectivity=0.6333333333333333)\n",
            "--------------------\n",
            "I hate the fact that I'm genuinely excited about my last tweet \n",
            "Sentiment(polarity=-0.1416666666666667, subjectivity=0.5722222222222222)\n",
            "--------------------\n",
            "Tula's sick! Nausious, Nasal congestion, headache, bodyaches and my nose is running a marathon. Theraflu please help \n",
            "Sentiment(polarity=-0.8928571428571429, subjectivity=0.8571428571428571)\n",
            "--------------------\n",
            "Hayfever time  not good!\n",
            "Sentiment(polarity=-0.4375, subjectivity=0.6000000000000001)\n",
            "--------------------\n",
            "I wish diversity was like one of those musicians with loads of stuff on YouTube, but no  #bgt\n",
            "Sentiment(polarity=0.0, subjectivity=0.0)\n",
            "--------------------\n"
          ]
        }
      ],
      "source": [
        "!pip install textblob\n",
        "from textblob import TextBlob\n",
        "\n",
        "for i, tweet_text in zip(range(20), tweets_text_collection):\n",
        "\n",
        "    print(tweet_text)\n",
        "    analysis = TextBlob(tweet_text)\n",
        "    \n",
        "    # Analyse the sentiment.\n",
        "    \n",
        "    print(analysis.sentiment)\n",
        "    \n",
        "    # Polarity is a value between [-1.0, 1.0] and tells how positive or negative the text is. \n",
        "    # Subjectivity is within the range [0.0, 1.0] where 0.0 is very objective and 1.0 is very subjective.\n",
        "    \n",
        "    print(\"-\"*20)"
      ]
    },
    {
      "cell_type": "markdown",
      "metadata": {
        "id": "Hmq64mfYO0NQ"
      },
      "source": [
        "There are many more features in textblob you can refer the official documentation for them."
      ]
    }
  ],
  "metadata": {
    "colab": {
      "collapsed_sections": [],
      "name": "04_Sentiment_Analysis_Textblob.ipynb",
      "provenance": [],
      "include_colab_link": true
    },
    "kernelspec": {
      "display_name": "Python 3",
      "language": "python",
      "name": "python3"
    },
    "language_info": {
      "codemirror_mode": {
        "name": "ipython",
        "version": 3
      },
      "file_extension": ".py",
      "mimetype": "text/x-python",
      "name": "python",
      "nbconvert_exporter": "python",
      "pygments_lexer": "ipython3",
      "version": "3.7.4"
    }
  },
  "nbformat": 4,
  "nbformat_minor": 0
}