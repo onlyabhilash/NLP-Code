{
  "cells": [
    {
      "cell_type": "markdown",
      "metadata": {
        "id": "view-in-github",
        "colab_type": "text"
      },
      "source": [
        "<a href=\"https://colab.research.google.com/github/onlyabhilash/NLP-Code/blob/main/part-7/06_SMTD_embeddings.ipynb\" target=\"_parent\"><img src=\"https://colab.research.google.com/assets/colab-badge.svg\" alt=\"Open In Colab\"/></a>"
      ]
    },
    {
      "cell_type": "markdown",
      "metadata": {
        "id": "rqxHRefPy2lO"
      },
      "source": [
        "In this notebook we will be using the smtd_preprocessing.py file which is a preprocessing pileline for twitter data to pre-process our tweets and then train our own twitter embeddings. <br>\n",
        "We can find pre-trained twitter embedding \n"
      ]
    },
    {
      "cell_type": "code",
      "execution_count": null,
      "metadata": {
        "id": "p8LSe56My2lV"
      },
      "outputs": [],
      "source": [
        "import os\n",
        "import sys\n",
        "import pandas as pd\n",
        "from gensim.models import Word2Vec\n",
        "import warnings\n",
        "warnings.filterwarnings('ignore')\n",
        "\n",
        "from nltk.tokenize import TweetTokenizer\n",
        "tweet_tokenizer = TweetTokenizer()\n",
        "\n",
        "PATH = \"path to repo\"\n",
        "preprocessing_path = PATH+\"/practical-nlp/Ch8/O5smtd_preprocessing.py\"\n",
        "sys.path.append(os.path.abspath(preprocessing_path))\n",
        "import O5_smtd_preprocessing\n"
      ]
    },
    {
      "cell_type": "markdown",
      "metadata": {
        "id": "nBHPaPPSy2lX"
      },
      "source": [
        "Let's use the dir() function to find all the properties and methods in the package."
      ]
    },
    {
      "cell_type": "code",
      "execution_count": null,
      "metadata": {
        "id": "zVYzymdly2lY",
        "outputId": "d600a2b8-42cb-4fb4-eccd-dfd9a8f1f756"
      },
      "outputs": [
        {
          "data": {
            "text/plain": [
              "['Entity',\n",
              " 'Punct',\n",
              " 'PunctChars',\n",
              " 'TweetTokenizer',\n",
              " '__builtins__',\n",
              " '__cached__',\n",
              " '__doc__',\n",
              " '__file__',\n",
              " '__loader__',\n",
              " '__name__',\n",
              " '__package__',\n",
              " '__spec__',\n",
              " 'deEmojify',\n",
              " 'demoji',\n",
              " 'identify_AlphaNumerics',\n",
              " 'identify_Savings',\n",
              " 'indentify_Money',\n",
              " 'indentify_Offers',\n",
              " 'indentify_Promos',\n",
              " 'indentify_freebies',\n",
              " 'neg_lookahead',\n",
              " 'optional',\n",
              " 'pos_lookahead',\n",
              " 'printable',\n",
              " 'process_BrandMentions',\n",
              " 'process_BrandName',\n",
              " 'process_Dates',\n",
              " 'process_EmailIds',\n",
              " 'process_HashTags',\n",
              " 'process_Mentions',\n",
              " 'process_NonBrandMentions',\n",
              " 'process_Times',\n",
              " 'process_TweetText',\n",
              " 'process_URLs',\n",
              " 'process_Websites',\n",
              " 'prune_multple_consecutive_same_char',\n",
              " 're',\n",
              " 'regex_or',\n",
              " 'remove_emoji',\n",
              " 'remove_spl_words',\n",
              " 'replace_numbers',\n",
              " 'string',\n",
              " 'strip_unicode',\n",
              " 'strip_whiteSpaces',\n",
              " 'to_LowerCase',\n",
              " 'trim']"
            ]
          },
          "execution_count": 25,
          "metadata": {},
          "output_type": "execute_result"
        }
      ],
      "source": [
        "dir(smtd_preprocessing)"
      ]
    },
    {
      "cell_type": "markdown",
      "metadata": {
        "id": "OH4W0oOzy2lZ"
      },
      "source": [
        "## Read Data\n",
        "Let's read the data. Normally in csv files the values are separated by a ','.<br> In this case, it is separated by a ';' so we will specify the delimiter as ';'."
      ]
    },
    {
      "cell_type": "code",
      "execution_count": null,
      "metadata": {
        "id": "XBkwB1VCy2la"
      },
      "outputs": [],
      "source": [
        "datapath = \"/home/etherealenvy/github/practical-nlp/Ch8/Data/sts_gold_tweet.csv\"\n",
        "df = pd.read_csv(datapath,error_bad_lines=False,delimiter=\";\")"
      ]
    },
    {
      "cell_type": "code",
      "execution_count": null,
      "metadata": {
        "id": "F74aOVvAy2lb",
        "outputId": "98970391-1cb8-4926-899b-911f898bd437"
      },
      "outputs": [
        {
          "data": {
            "text/html": [
              "<div>\n",
              "<style scoped>\n",
              "    .dataframe tbody tr th:only-of-type {\n",
              "        vertical-align: middle;\n",
              "    }\n",
              "\n",
              "    .dataframe tbody tr th {\n",
              "        vertical-align: top;\n",
              "    }\n",
              "\n",
              "    .dataframe thead th {\n",
              "        text-align: right;\n",
              "    }\n",
              "</style>\n",
              "<table border=\"1\" class=\"dataframe\">\n",
              "  <thead>\n",
              "    <tr style=\"text-align: right;\">\n",
              "      <th></th>\n",
              "      <th>id</th>\n",
              "      <th>polarity</th>\n",
              "      <th>tweet</th>\n",
              "    </tr>\n",
              "  </thead>\n",
              "  <tbody>\n",
              "    <tr>\n",
              "      <th>0</th>\n",
              "      <td>1467933112</td>\n",
              "      <td>0</td>\n",
              "      <td>the angel is going to miss the athlete this we...</td>\n",
              "    </tr>\n",
              "    <tr>\n",
              "      <th>1</th>\n",
              "      <td>2323395086</td>\n",
              "      <td>0</td>\n",
              "      <td>It looks as though Shaq is getting traded to C...</td>\n",
              "    </tr>\n",
              "    <tr>\n",
              "      <th>2</th>\n",
              "      <td>1467968979</td>\n",
              "      <td>0</td>\n",
              "      <td>@clarianne APRIL 9TH ISN'T COMING SOON ENOUGH</td>\n",
              "    </tr>\n",
              "    <tr>\n",
              "      <th>3</th>\n",
              "      <td>1990283756</td>\n",
              "      <td>0</td>\n",
              "      <td>drinking a McDonalds coffee and not understand...</td>\n",
              "    </tr>\n",
              "    <tr>\n",
              "      <th>4</th>\n",
              "      <td>1988884918</td>\n",
              "      <td>0</td>\n",
              "      <td>So dissapointed Taylor Swift doesnt have a Twi...</td>\n",
              "    </tr>\n",
              "  </tbody>\n",
              "</table>\n",
              "</div>"
            ],
            "text/plain": [
              "           id  polarity                                              tweet\n",
              "0  1467933112         0  the angel is going to miss the athlete this we...\n",
              "1  2323395086         0  It looks as though Shaq is getting traded to C...\n",
              "2  1467968979         0     @clarianne APRIL 9TH ISN'T COMING SOON ENOUGH \n",
              "3  1990283756         0  drinking a McDonalds coffee and not understand...\n",
              "4  1988884918         0  So dissapointed Taylor Swift doesnt have a Twi..."
            ]
          },
          "execution_count": 27,
          "metadata": {},
          "output_type": "execute_result"
        }
      ],
      "source": [
        "#let's have a loof at the dataset\n",
        "df.head()"
      ]
    },
    {
      "cell_type": "code",
      "execution_count": null,
      "metadata": {
        "id": "e0k6iKXNy2lc",
        "outputId": "0360dd46-201e-4ba2-e592-0af674a6a041"
      },
      "outputs": [
        {
          "ename": "NameError",
          "evalue": "name 'df' is not defined",
          "output_type": "error",
          "traceback": [
            "\u001b[0;31m---------------------------------------------------------------------------\u001b[0m",
            "\u001b[0;31mNameError\u001b[0m                                 Traceback (most recent call last)",
            "\u001b[0;32m<ipython-input-1-8af7ea2c0511>\u001b[0m in \u001b[0;36m<module>\u001b[0;34m\u001b[0m\n\u001b[1;32m      1\u001b[0m \u001b[0;31m#pre-process tweets using our package\u001b[0m\u001b[0;34m\u001b[0m\u001b[0;34m\u001b[0m\u001b[0;34m\u001b[0m\u001b[0m\n\u001b[0;32m----> 2\u001b[0;31m \u001b[0mdf\u001b[0m\u001b[0;34m[\u001b[0m\u001b[0;34m'tweet'\u001b[0m\u001b[0;34m]\u001b[0m \u001b[0;34m=\u001b[0m \u001b[0mdf\u001b[0m\u001b[0;34m[\u001b[0m\u001b[0;34m'tweet'\u001b[0m\u001b[0;34m]\u001b[0m\u001b[0;34m.\u001b[0m\u001b[0mapply\u001b[0m\u001b[0;34m(\u001b[0m\u001b[0;32mlambda\u001b[0m \u001b[0mx\u001b[0m\u001b[0;34m:\u001b[0m \u001b[0msmtd_preprocessing\u001b[0m\u001b[0;34m.\u001b[0m\u001b[0mprocess_TweetText\u001b[0m\u001b[0;34m(\u001b[0m\u001b[0mx\u001b[0m\u001b[0;34m)\u001b[0m\u001b[0;34m)\u001b[0m\u001b[0;34m\u001b[0m\u001b[0;34m\u001b[0m\u001b[0m\n\u001b[0m\u001b[1;32m      3\u001b[0m \u001b[0mdf\u001b[0m\u001b[0;34m[\u001b[0m\u001b[0;34m'tweet'\u001b[0m\u001b[0;34m]\u001b[0m \u001b[0;34m=\u001b[0m \u001b[0mdf\u001b[0m\u001b[0;34m[\u001b[0m\u001b[0;34m'tweet'\u001b[0m\u001b[0;34m]\u001b[0m\u001b[0;34m.\u001b[0m\u001b[0mapply\u001b[0m\u001b[0;34m(\u001b[0m\u001b[0;32mlambda\u001b[0m \u001b[0mx\u001b[0m\u001b[0;34m:\u001b[0m \u001b[0mtweet_tokenizer\u001b[0m\u001b[0;34m.\u001b[0m\u001b[0mtokenize\u001b[0m\u001b[0;34m(\u001b[0m\u001b[0mx\u001b[0m\u001b[0;34m)\u001b[0m\u001b[0;34m)\u001b[0m\u001b[0;34m\u001b[0m\u001b[0;34m\u001b[0m\u001b[0m\n\u001b[1;32m      4\u001b[0m \u001b[0mtweets_processed\u001b[0m \u001b[0;34m=\u001b[0m \u001b[0mdf\u001b[0m\u001b[0;34m[\u001b[0m\u001b[0;34m'tweet'\u001b[0m\u001b[0;34m]\u001b[0m\u001b[0;34m.\u001b[0m\u001b[0mvalues\u001b[0m\u001b[0;34m\u001b[0m\u001b[0;34m\u001b[0m\u001b[0m\n\u001b[1;32m      5\u001b[0m \u001b[0mtweets_cat\u001b[0m \u001b[0;34m=\u001b[0m \u001b[0mdf\u001b[0m\u001b[0;34m[\u001b[0m\u001b[0;34m'polarity'\u001b[0m\u001b[0;34m]\u001b[0m\u001b[0;34m.\u001b[0m\u001b[0mvalues\u001b[0m\u001b[0;34m\u001b[0m\u001b[0;34m\u001b[0m\u001b[0m\n",
            "\u001b[0;31mNameError\u001b[0m: name 'df' is not defined"
          ]
        }
      ],
      "source": [
        "#pre-process tweets using our package \n",
        "df['tweet'] = df['tweet'].apply(lambda x: smtd_preprocessing.process_TweetText(x))\n",
        "df['tweet'] = df['tweet'].apply(lambda x: tweet_tokenizer.tokenize(x))\n",
        "tweets = df['tweet'].values"
      ]
    },
    {
      "cell_type": "markdown",
      "metadata": {
        "id": "Cx2t4LjHy2ld"
      },
      "source": [
        "## Train Embeddings\n",
        "Let's train our own embeddings."
      ]
    },
    {
      "cell_type": "code",
      "execution_count": null,
      "metadata": {
        "id": "d8n1-hxry2le",
        "outputId": "440c931c-137c-4b28-ff74-b7870323df87"
      },
      "outputs": [
        {
          "name": "stdout",
          "output_type": "stream",
          "text": [
            "CBOW Model Training Complete.\n",
            "Time taken for training is:0.30038 sec \n"
          ]
        }
      ],
      "source": [
        "#CBOW\n",
        "import time\n",
        "start = time.time()\n",
        "word2vec_tweet = Word2Vec(tweets,min_count=5, sg=0)\n",
        "end = time.time()\n",
        "\n",
        "print(\"CBOW Model Training Complete.\\nTime taken for training is:{:.5f} sec \".format((end-start)))"
      ]
    },
    {
      "cell_type": "code",
      "execution_count": null,
      "metadata": {
        "id": "4sMnfdwwy2le",
        "outputId": "8e764fd1-7f85-4eed-d463-1d68ced35717"
      },
      "outputs": [
        {
          "name": "stdout",
          "output_type": "stream",
          "text": [
            "Summary of the model: Word2Vec(vocab=774, size=100, alpha=0.025)\n",
            "Small part of Vocabulary of our model: ['the', 'is', 'going', 'to', 'miss', 'this', 'weekend', 'it', 'looks', 'as']\n",
            "Acess Vector for the word 'lol' [ 0.2756739  -0.03903353  0.12927012  0.20520227  0.04137257 -0.03074632\n",
            "  0.17001949  0.0449194   0.24886052  0.02291003  0.3795883  -0.05502341\n",
            " -0.09399782 -0.00359744  0.07682157 -0.00413511  0.26787597  0.04674146\n",
            " -0.22936895 -0.08439928  0.32293504  0.10890193 -0.40296823  0.03652963\n",
            " -0.115926   -0.22882248 -0.24653126  0.0714322  -0.08652437  0.03880057\n",
            "  0.21119894 -0.23348321  0.12913057  0.10799696  0.13972142 -0.21675901\n",
            "  0.30745262  0.2650789  -0.18451428  0.5429429   0.44019455 -0.0185538\n",
            " -0.07647289 -0.24264409  0.05754215  0.2152096  -0.03828681 -0.2931808\n",
            " -0.1592866  -0.00597822  0.27122855  0.42071542  0.25826392  0.03933503\n",
            "  0.05660429 -0.00651797 -0.20876434  0.03676748  0.565065   -0.03702077\n",
            " -0.01666446 -0.01691819  0.5507577   0.19740878 -0.28567052  0.08745108\n",
            " -0.36515433 -0.18357527  0.15627873 -0.16464078  0.17817579  0.14504248\n",
            " -0.55494034  0.4753847  -0.01240038  0.1388182   0.09113082 -0.25134158\n",
            "  0.29320475  0.07215192 -0.09627962 -0.15758353  0.2458096   0.00120103\n",
            " -0.13823892  0.06761732  0.40761608  0.07600249 -0.3885278  -0.35254315\n",
            " -0.23126903 -0.03840529 -0.40234354 -0.2181729  -0.0864317  -0.00625462\n",
            " -0.10185967  0.01886741  0.08648598 -0.05678196]\n"
          ]
        }
      ],
      "source": [
        "#Summarize the loaded model\n",
        "print(\"Summary of the model:\",word2vec_tweet)\n",
        "\n",
        "#Summarize vocabulary\n",
        "words = list(word2vec_tweet.wv.vocab)\n",
        "print(\"Small part of Vocabulary of our model:\",words[:10])\n",
        "\n",
        "#Acess vector for one word\n",
        "print(\"Acess Vector for the word 'lol'\",word2vec_tweet['lol'])"
      ]
    },
    {
      "cell_type": "code",
      "execution_count": null,
      "metadata": {
        "id": "D7YyEhQGy2lf"
      },
      "outputs": [],
      "source": [
        "from gensim.models import Word2Vec, KeyedVectors #To load the model\n",
        "import warnings\n",
        "warnings.filterwarnings('ignore') #ignore any generated warnings\n",
        "\n",
        "import numpy as np\n",
        "import matplotlib.pyplot as plt #to generate the t-SNE plot\n",
        "from sklearn.manifold import TSNE #scikit learn's TSNE"
      ]
    },
    {
      "cell_type": "code",
      "execution_count": null,
      "metadata": {
        "id": "pRCJIuRjy2lg",
        "outputId": "1367a157-6b4d-4050-d851-85215869d872"
      },
      "outputs": [
        {
          "name": "stderr",
          "output_type": "stream",
          "text": [
            "[nltk_data] Downloading package stopwords to\n",
            "[nltk_data]     /home/etherealenvy/nltk_data...\n",
            "[nltk_data]   Package stopwords is already up-to-date!\n"
          ]
        },
        {
          "name": "stdout",
          "output_type": "stream",
          "text": [
            "Size of Vocabulary: 774\n",
            "Few words in Vocabulary ['the', 'is', 'going', 'to', 'miss', 'this', 'weekend', 'it', 'looks', 'as', 'though', 'getting', 'play', 'w', '/', 'lebron', '..', 'too', 'bad', 'for', \"'\", 'fans', '.', 'big', 'no', 'more', 'constantnonbrandmention', 'constantdate', \"isn't\", 'coming', 'soon', 'enough', 'drinking', 'a', 'mcdonalds', 'coffee', 'and', 'not', 'why', 'someone', 'would', 'me', 'so', 'taylor', 'swift', 'doesnt', 'have', 'twitter', 'i', 'was']\n",
            "Size of Vocabulary without stopwords: 654\n",
            "Few words in Vocabulary without stopwords ['going', 'miss', 'weekend', 'looks', 'though', 'getting', 'play', 'w', '/', 'lebron', '..', 'bad', \"'\", 'fans', '.', 'big', 'constantnonbrandmention', 'constantdate', 'coming', 'soon', 'enough', 'drinking', 'mcdonalds', 'coffee', 'someone', 'would', 'taylor', 'swift', 'doesnt', 'twitter']\n"
          ]
        }
      ],
      "source": [
        "#Preprocessing our models vocabulary to make better visualizations\n",
        "import nltk\n",
        "from nltk.corpus import stopwords\n",
        "nltk.download('stopwords')\n",
        "\n",
        "words_vocab= list(word2vec_tweet.wv.vocab)#all the words in the vocabulary. \n",
        "print(\"Size of Vocabulary:\",len(words_vocab))\n",
        "print(\"Few words in Vocabulary\",words_vocab[:50])\n",
        "\n",
        "#Let us remove the stop words from this it will help making the visualization cleaner\n",
        "stopwords_en = stopwords.words('english')\n",
        "words_vocab_without_sw = [word.lower() for word in words_vocab if not word in stopwords_en]\n",
        "print(\"Size of Vocabulary without stopwords:\",len(words_vocab_without_sw))\n",
        "print(\"Few words in Vocabulary without stopwords\",words_vocab_without_sw[:30])\n",
        "#The size didnt reduce much after removing the stop words so lets try visualizing only a selected subset of words\n"
      ]
    },
    {
      "cell_type": "code",
      "execution_count": null,
      "metadata": {
        "id": "kptWvrY1y2lg"
      },
      "outputs": [],
      "source": [
        "#With the increase in the amount of data, it becomes more and more difficult to visualize and interpret\n",
        "#In practice, similar words are combined into groups for further visualization.\n",
        "\n",
        "keys = ['weekend','twitter','mcdonalds','coffee']\n",
        "embedding_clusters = []\n",
        "word_clusters = []\n",
        "\n",
        "for word in keys:\n",
        "    embeddings = []\n",
        "    words = []\n",
        "    for similar_word, _ in word2vec_tweet.most_similar(word, topn=10):\n",
        "        words.append(similar_word)\n",
        "        embeddings.append(word2vec_tweet[similar_word])\n",
        "    embedding_clusters.append(embeddings)#apending access vector of all similar words\n",
        "    word_clusters.append(words)#appending list of all smiliar words"
      ]
    },
    {
      "cell_type": "code",
      "execution_count": null,
      "metadata": {
        "id": "W22Q260xy2lh",
        "outputId": "3401ac92-9802-4ca5-b147-04e1a61a9709"
      },
      "outputs": [
        {
          "name": "stdout",
          "output_type": "stream",
          "text": [
            "Embedding clusters: [ 3.21569681e-01 -4.20128219e-02  1.49139896e-01  2.39587322e-01\n",
            "  5.23119159e-02 -3.82895172e-02  1.98435903e-01  4.76745181e-02\n",
            "  2.92601347e-01  2.74184775e-02  4.39653128e-01 -6.29316196e-02\n",
            " -1.16034716e-01 -4.79452265e-03  9.57187414e-02 -2.61416868e-03\n",
            "  3.07452261e-01  5.13371602e-02 -2.70336419e-01 -9.65075791e-02\n",
            "  3.67803395e-01  1.23229615e-01 -4.71419841e-01  4.12440114e-02\n",
            " -1.34507343e-01 -2.65210778e-01 -2.89428025e-01  9.18862075e-02\n",
            " -1.02691606e-01  5.18364273e-02  2.37800449e-01 -2.76838273e-01\n",
            "  1.46224156e-01  1.22127891e-01  1.60940975e-01 -2.60926336e-01\n",
            "  3.56917381e-01  3.06802005e-01 -2.11495727e-01  6.25383675e-01\n",
            "  5.12356877e-01 -1.54413851e-02 -9.16360319e-02 -2.85034478e-01\n",
            "  6.27280325e-02  2.50605673e-01 -3.46035771e-02 -3.40862811e-01\n",
            " -1.78192899e-01 -4.82304255e-03  3.15962136e-01  4.87821758e-01\n",
            "  2.91811794e-01  4.30303328e-02  5.91294393e-02 -1.21526523e-02\n",
            " -2.37178832e-01  3.23644355e-02  6.59746647e-01 -3.63355316e-02\n",
            " -1.71607621e-02 -1.73890851e-02  6.36045277e-01  2.31026903e-01\n",
            " -3.36492449e-01  1.09852113e-01 -4.19147700e-01 -2.05973580e-01\n",
            "  1.75090492e-01 -1.87037081e-01  2.07725912e-01  1.68836892e-01\n",
            " -6.48580909e-01  5.45580864e-01 -6.36239164e-03  1.64922133e-01\n",
            "  1.06195234e-01 -2.89450914e-01  3.45067859e-01  8.85010213e-02\n",
            " -1.13850333e-01 -1.83813944e-01  2.87928015e-01  4.45520598e-03\n",
            " -1.61361530e-01  8.30131099e-02  4.74472791e-01  8.98129717e-02\n",
            " -4.52706099e-01 -4.11043644e-01 -2.65440792e-01 -4.97569256e-02\n",
            " -4.60542619e-01 -2.55249768e-01 -9.82341915e-02 -4.83348442e-04\n",
            " -1.21153466e-01  1.91877522e-02  1.07436366e-01 -6.58472776e-02]\n",
            "Word Clousters: [['time', 'me', 'in', 'constantnum', 'for', 'my', 'out', 'a', 'will', 'on'], ['constantalphanum', 'of', 'it', 'no', '?', 'we', 'been', 'in', \"it's\", 'but']]\n"
          ]
        }
      ],
      "source": [
        "print(\"Embedding clusters:\",embedding_clusters[0][0])#Access vector of the first word only\n",
        "print(\"Word Clousters:\",word_clusters[:2])"
      ]
    },
    {
      "cell_type": "markdown",
      "metadata": {
        "id": "NlxnXTtvy2li"
      },
      "source": [
        "## Visualization\n",
        "We will visualize our embeddings using T-SNE. If you do not know aht T-SNE is or have forgotten please refer to Ch3 in the book. We will be using the T-SNE code previously introduced in a notebook from Ch3 which can be found [here](https://github.com/practical-nlp/practical-nlp/blob/master/Ch3/09_Visualizing_Embeddings_Using_TSNE.ipynb)."
      ]
    },
    {
      "cell_type": "code",
      "execution_count": null,
      "metadata": {
        "id": "m8tXKOz5y2li"
      },
      "outputs": [],
      "source": [
        "from sklearn.manifold import TSNE\n",
        "import numpy as np\n",
        "\n",
        "embedding_clusters = np.array(embedding_clusters)\n",
        "n, m, k = embedding_clusters.shape #geting the dimensions\n",
        "tsne_model_en_2d = TSNE(perplexity=10, n_components=2, init='pca', n_iter=1500, random_state=2020) \n",
        "embeddings_en_2d = np.array(tsne_model_en_2d.fit_transform(embedding_clusters.reshape(n * m, k))).reshape(n, m, 2) #reshaping it into 2d so we can visualize it"
      ]
    },
    {
      "cell_type": "code",
      "execution_count": null,
      "metadata": {
        "id": "O0C4DArwy2lj",
        "outputId": "48d2de16-175c-4b2a-fd80-0cef7f2d289f"
      },
      "outputs": [
        {
          "data": {
            "image/png": "[encoded data removed]",
            "text/plain": [
              "<Figure size 1152x648 with 1 Axes>"
            ]
          },
          "metadata": {
            "needs_background": "light"
          },
          "output_type": "display_data"
        }
      ],
      "source": [
        "from sklearn.manifold import TSNE\n",
        "import matplotlib.pyplot as plt\n",
        "import matplotlib.cm as cm\n",
        "import numpy as np\n",
        "%matplotlib inline\n",
        "#script for constructing two-dimensional graphics using Matplotlib\n",
        "def tsne_plot_similar_words(labels, embedding_clusters, word_clusters, a=0.7):\n",
        "    plt.figure(figsize=(16, 9))\n",
        "    \n",
        "\n",
        "    for label, embeddings, words in zip(labels, embedding_clusters, word_clusters):\n",
        "        x = embeddings[:,0]\n",
        "        y = embeddings[:,1]\n",
        "        plt.scatter(x, y, alpha=a, label=label)\n",
        "        for i, word in enumerate(words):\n",
        "            plt.annotate(word, alpha=0.5, xy=(x[i], y[i]), xytext=(5, 2), \n",
        "                         textcoords='offset points', ha='right', va='bottom', size=8)\n",
        "    plt.legend(loc=4)\n",
        "    plt.grid(True)\n",
        "    plt.show()\n",
        "\n",
        "tsne_plot_similar_words(words_vocab_without_sw, embeddings_en_2d, word_clusters)"
      ]
    },
    {
      "cell_type": "code",
      "execution_count": null,
      "metadata": {
        "id": "VNv0KusBy2lj"
      },
      "outputs": [],
      "source": [
        ""
      ]
    }
  ],
  "metadata": {
    "kernelspec": {
      "display_name": "Python 3",
      "language": "python",
      "name": "python3"
    },
    "language_info": {
      "codemirror_mode": {
        "name": "ipython",
        "version": 3
      },
      "file_extension": ".py",
      "mimetype": "text/x-python",
      "name": "python",
      "nbconvert_exporter": "python",
      "pygments_lexer": "ipython3",
      "version": "3.6.10"
    },
    "colab": {
      "name": "06_SMTD_embeddings.ipynb",
      "provenance": [],
      "include_colab_link": true
    }
  },
  "nbformat": 4,
  "nbformat_minor": 0
}