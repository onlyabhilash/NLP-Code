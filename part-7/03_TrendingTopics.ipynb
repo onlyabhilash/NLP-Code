{
  "cells": [
    {
      "cell_type": "markdown",
      "metadata": {
        "id": "view-in-github",
        "colab_type": "text"
      },
      "source": [
        "<a href=\"https://colab.research.google.com/github/onlyabhilash/NLP-Code/blob/main/part-7/03_TrendingTopics.ipynb\" target=\"_parent\"><img src=\"https://colab.research.google.com/assets/colab-badge.svg\" alt=\"Open In Colab\"/></a>"
      ]
    },
    {
      "cell_type": "markdown",
      "metadata": {
        "id": "6IM1xuTnGlPs"
      },
      "source": [
        "# Trending Topics\n",
        "\n",
        "## In this notebook we show you how to access the most trending topics in a particular location. \n",
        "### pre-requisites: Twitter Developer Account. If you dont have one, dont worry it is free to obtain all you need to do is visit this link and follow the setup process explained [here](https://cran.r-project.org/web/packages/rtweet/vignettes/auth.html)."
      ]
    },
    {
      "cell_type": "code",
      "execution_count": null,
      "metadata": {
        "id": "SSKP1W_7p7vL"
      },
      "outputs": [],
      "source": [
        "import tweepy, json"
      ]
    },
    {
      "cell_type": "code",
      "execution_count": null,
      "metadata": {
        "id": "toSpm2I4BeTH"
      },
      "outputs": [],
      "source": [
        "# Setting all the credentials of your twitter developer account.\n",
        "\n",
        "CONSUMER_KEY= 'insert your customer key'\n",
        "CONSUMER_SECRET= 'insert your customer secrect key'\n",
        "ACCESS_KEY= 'insert your access key here'\n",
        "ACCESS_SECRET= 'insert your access secret key here'"
      ]
    },
    {
      "cell_type": "code",
      "execution_count": null,
      "metadata": {
        "id": "oiNcCJPiBfDW"
      },
      "outputs": [],
      "source": [
        "# Granting access to your twitter account.\n",
        "\n",
        "auth = tweepy.OAuthHandler(CONSUMER_KEY, CONSUMER_SECRET)\n",
        "auth.set_access_token(ACCESS_KEY, ACCESS_SECRET)\n",
        "api = tweepy.API(auth)"
      ]
    },
    {
      "cell_type": "code",
      "execution_count": null,
      "metadata": {
        "colab": {
          "base_uri": "https://localhost:8080/",
          "height": 35
        },
        "id": "wAM5FWYPBix2",
        "outputId": "d474a149-e0dc-440f-a723-c273f0a112ae"
      },
      "outputs": [
        {
          "output_type": "stream",
          "text": [
            "{'PYONGEXPULSO', 'MaiaGolpista', 'FALLINGMUSICVIDEO', 'Normani', 'Monfils', 'WHYRUep6', 'FreeCodeFridayContest', 'YtBring67MBack', 'THELMA MERECE RESPEITO', 'Gare de Lyon'}\n"
          ],
          "name": "stdout"
        }
      ],
      "source": [
        "# A WOEID (Where On Earth IDentifier) is a unique 32-bit reference identifier.\n",
        "\n",
        "WORLD_WOE_ID =1\n",
        "BRAZIL_WOE_ID = 23424768\n",
        "\n",
        "# Fetching trending topics in BraziL.\n",
        "\n",
        "brazil_trends = api.trends_place(BRAZIL_WOE_ID)\n",
        "trends = json.loads(json.dumps(brazil_trends, indent=1))\n",
        " \n",
        "brazil_trend_list=[] \n",
        "for trend in trends[0][\"trends\"]:\n",
        "\tbrazil_trend_list.append(trend[\"name\"].strip(\"#\"))\n",
        "\n",
        "# Fetching trending topics in the world.\n",
        "world_trends = api.trends_place(WORLD_WOE_ID)\n",
        "world_trends_json = json.loads(json.dumps(world_trends, indent=1))\n",
        "\n",
        "world_trend_list=[] \n",
        "for trend in world_trends_json[0][\"trends\"]:\n",
        "\tworld_trend_list.append(trend[\"name\"].strip(\"#\"))\n",
        " \n",
        "# Printing the topics which are trending in both WORLD and BRAZIL.\n",
        "\n",
        "print(set(world_trend_list).intersection(set(brazil_trend_list)))"
      ]
    }
  ],
  "metadata": {
    "colab": {
      "collapsed_sections": [],
      "name": "03_TrendingTopics.ipynb",
      "provenance": [],
      "include_colab_link": true
    },
    "kernelspec": {
      "display_name": "Python 3",
      "language": "python",
      "name": "python3"
    },
    "language_info": {
      "codemirror_mode": {
        "name": "ipython",
        "version": 3
      },
      "file_extension": ".py",
      "mimetype": "text/x-python",
      "name": "python",
      "nbconvert_exporter": "python",
      "pygments_lexer": "ipython3",
      "version": "3.7.4"
    }
  },
  "nbformat": 4,
  "nbformat_minor": 0
}