{
  "cells": [
    {
      "cell_type": "markdown",
      "metadata": {
        "id": "view-in-github",
        "colab_type": "text"
      },
      "source": [
        "<a href=\"https://colab.research.google.com/github/onlyabhilash/NLP-Code/blob/main/part-7/TwitterSentiment_2.ipynb\" target=\"_parent\"><img src=\"https://colab.research.google.com/assets/colab-badge.svg\" alt=\"Open In Colab\"/></a>"
      ]
    },
    {
      "cell_type": "markdown",
      "metadata": {
        "id": "CHIjzLJ9ri6P"
      },
      "source": [
        "In this notebook we combine the concepts from previous notebook. We pre-process tweets using our preprocessing pipeline, build embeddings and then classify them using a logistic regression model."
      ]
    },
    {
      "cell_type": "code",
      "execution_count": null,
      "metadata": {
        "id": "RDm0fKijri6a"
      },
      "outputs": [],
      "source": [
        "#Making the necessary imports\n",
        "import os\n",
        "import sys\n",
        "\n",
        "preprocessing_path = \"/home/etherealenvy/Downloads/practical-nlp/Ch8/O5_smtd_preprocessing.py\"\n",
        "sys.path.append(os.path.abspath(preprocessing_path))\n",
        "\n",
        "import O5_smtd_preprocessing\n",
        "\n",
        "from nltk.corpus import stopwords\n",
        "from string import punctuation\n",
        "\n",
        "import pandas as pd\n",
        "from gensim.models import Word2Vec\n",
        "import warnings\n",
        "warnings.filterwarnings('ignore')\n",
        "\n",
        "from nltk.tokenize import TweetTokenizer\n",
        "tweet_tokenizer = TweetTokenizer()\n",
        "\n",
        "\n",
        "#imports related to modeling\n",
        "import numpy as np\n",
        "from gensim.models import Word2Vec, KeyedVectors\n",
        "from sklearn.linear_model import LogisticRegression\n",
        "from sklearn.model_selection import train_test_split\n",
        "from sklearn.metrics import classification_report"
      ]
    },
    {
      "cell_type": "markdown",
      "metadata": {
        "id": "fV14FCvcri6c"
      },
      "source": [
        "## Reading and Preprocessing\n",
        "Let's read the dataset and pre-process them using the pre-processing pipeline."
      ]
    },
    {
      "cell_type": "code",
      "execution_count": null,
      "metadata": {
        "id": "u_LtdM0qri6e",
        "outputId": "52b43059-657f-4c4b-9f45-b4c90989346e"
      },
      "outputs": [
        {
          "data": {
            "text/html": [
              "<div>\n",
              "<style scoped>\n",
              "    .dataframe tbody tr th:only-of-type {\n",
              "        vertical-align: middle;\n",
              "    }\n",
              "\n",
              "    .dataframe tbody tr th {\n",
              "        vertical-align: top;\n",
              "    }\n",
              "\n",
              "    .dataframe thead th {\n",
              "        text-align: right;\n",
              "    }\n",
              "</style>\n",
              "<table border=\"1\" class=\"dataframe\">\n",
              "  <thead>\n",
              "    <tr style=\"text-align: right;\">\n",
              "      <th></th>\n",
              "      <th>polarity</th>\n",
              "      <th>tweet</th>\n",
              "    </tr>\n",
              "  </thead>\n",
              "  <tbody>\n",
              "    <tr>\n",
              "      <th>0</th>\n",
              "      <td>0</td>\n",
              "      <td>the angel is going to miss the athlete this we...</td>\n",
              "    </tr>\n",
              "    <tr>\n",
              "      <th>1</th>\n",
              "      <td>0</td>\n",
              "      <td>It looks as though Shaq is getting traded to C...</td>\n",
              "    </tr>\n",
              "    <tr>\n",
              "      <th>2</th>\n",
              "      <td>0</td>\n",
              "      <td>@clarianne APRIL 9TH ISN'T COMING SOON ENOUGH</td>\n",
              "    </tr>\n",
              "    <tr>\n",
              "      <th>3</th>\n",
              "      <td>0</td>\n",
              "      <td>drinking a McDonalds coffee and not understand...</td>\n",
              "    </tr>\n",
              "    <tr>\n",
              "      <th>4</th>\n",
              "      <td>0</td>\n",
              "      <td>So dissapointed Taylor Swift doesnt have a Twi...</td>\n",
              "    </tr>\n",
              "  </tbody>\n",
              "</table>\n",
              "</div>"
            ],
            "text/plain": [
              "   polarity                                              tweet\n",
              "0         0  the angel is going to miss the athlete this we...\n",
              "1         0  It looks as though Shaq is getting traded to C...\n",
              "2         0     @clarianne APRIL 9TH ISN'T COMING SOON ENOUGH \n",
              "3         0  drinking a McDonalds coffee and not understand...\n",
              "4         0  So dissapointed Taylor Swift doesnt have a Twi..."
            ]
          },
          "metadata": {},
          "output_type": "display_data"
        },
        {
          "data": {
            "text/html": [
              "<div>\n",
              "<style scoped>\n",
              "    .dataframe tbody tr th:only-of-type {\n",
              "        vertical-align: middle;\n",
              "    }\n",
              "\n",
              "    .dataframe tbody tr th {\n",
              "        vertical-align: top;\n",
              "    }\n",
              "\n",
              "    .dataframe thead th {\n",
              "        text-align: right;\n",
              "    }\n",
              "</style>\n",
              "<table border=\"1\" class=\"dataframe\">\n",
              "  <thead>\n",
              "    <tr style=\"text-align: right;\">\n",
              "      <th></th>\n",
              "      <th>polarity</th>\n",
              "      <th>tweet</th>\n",
              "      <th>tweet_tokens</th>\n",
              "      <th>tweet_no_stopwords</th>\n",
              "    </tr>\n",
              "  </thead>\n",
              "  <tbody>\n",
              "    <tr>\n",
              "      <th>0</th>\n",
              "      <td>0</td>\n",
              "      <td>the angel is going to miss the athlete this we...</td>\n",
              "      <td>[the, angel, is, going, to, miss, the, athlete...</td>\n",
              "      <td>[angel, going, miss, athlete, weekend]</td>\n",
              "    </tr>\n",
              "    <tr>\n",
              "      <th>1</th>\n",
              "      <td>0</td>\n",
              "      <td>it looks as though shaq is getting traded to c...</td>\n",
              "      <td>[it, looks, as, though, shaq, is, getting, tra...</td>\n",
              "      <td>[looks, though, shaq, getting, traded, clevela...</td>\n",
              "    </tr>\n",
              "    <tr>\n",
              "      <th>2</th>\n",
              "      <td>0</td>\n",
              "      <td>constantnonbrandmention constantdate isn't com...</td>\n",
              "      <td>[constantnonbrandmention, constantdate, isn't,...</td>\n",
              "      <td>[constantnonbrandmention, constantdate, coming...</td>\n",
              "    </tr>\n",
              "    <tr>\n",
              "      <th>3</th>\n",
              "      <td>0</td>\n",
              "      <td>drinking a mcdonalds coffee and not understand...</td>\n",
              "      <td>[drinking, a, mcdonalds, coffee, and, not, und...</td>\n",
              "      <td>[drinking, mcdonalds, coffee, understanding, s...</td>\n",
              "    </tr>\n",
              "    <tr>\n",
              "      <th>4</th>\n",
              "      <td>0</td>\n",
              "      <td>so dissapointed taylor swift doesnt have a twi...</td>\n",
              "      <td>[so, dissapointed, taylor, swift, doesnt, have...</td>\n",
              "      <td>[dissapointed, taylor, swift, doesnt, twitter]</td>\n",
              "    </tr>\n",
              "  </tbody>\n",
              "</table>\n",
              "</div>"
            ],
            "text/plain": [
              "   polarity                                              tweet  \\\n",
              "0         0  the angel is going to miss the athlete this we...   \n",
              "1         0  it looks as though shaq is getting traded to c...   \n",
              "2         0  constantnonbrandmention constantdate isn't com...   \n",
              "3         0  drinking a mcdonalds coffee and not understand...   \n",
              "4         0  so dissapointed taylor swift doesnt have a twi...   \n",
              "\n",
              "                                        tweet_tokens  \\\n",
              "0  [the, angel, is, going, to, miss, the, athlete...   \n",
              "1  [it, looks, as, though, shaq, is, getting, tra...   \n",
              "2  [constantnonbrandmention, constantdate, isn't,...   \n",
              "3  [drinking, a, mcdonalds, coffee, and, not, und...   \n",
              "4  [so, dissapointed, taylor, swift, doesnt, have...   \n",
              "\n",
              "                                  tweet_no_stopwords  \n",
              "0             [angel, going, miss, athlete, weekend]  \n",
              "1  [looks, though, shaq, getting, traded, clevela...  \n",
              "2  [constantnonbrandmention, constantdate, coming...  \n",
              "3  [drinking, mcdonalds, coffee, understanding, s...  \n",
              "4     [dissapointed, taylor, swift, doesnt, twitter]  "
            ]
          },
          "metadata": {},
          "output_type": "display_data"
        },
        {
          "name": "stdout",
          "output_type": "stream",
          "text": [
            "Number of tweets and categories\n",
            "2034 2034\n",
            "\n",
            "Examle of polarity, processed tweet, processed tweet without stopwords\n",
            "0 , ['the', 'angel', 'is', 'going', 'to', 'miss', 'the', 'athlete', 'this', 'weekend'] , ['angel', 'going', 'miss', 'athlete', 'weekend']\n"
          ]
        }
      ],
      "source": [
        "datapath = \"Path to repo\"\n",
        "df = pd.read_csv(datapath+\"/practical-nlp/Ch8/Data/sts_gold_tweet.csv\",\n",
        "                 error_bad_lines=False,delimiter=\";\")\n",
        "df = df.dropna(how='any')\n",
        "df.drop(columns=['id'], inplace=True)\n",
        "display(df.head())\n",
        "\n",
        "#pre-process tweets using our package\n",
        "df['tweet'] = df['tweet'].apply(lambda x: O5_smtd_preprocessing.process_TweetText(x))\n",
        "df['tweet_tokens'] = df['tweet'].apply(lambda x: tweet_tokenizer.tokenize(x))\n",
        "df['tweet_no_stopwords'] = df['tweet_tokens'].apply(lambda x: [word for word in x if word not in stopwords.words('english')])\n",
        "tweets_processed = df['tweet_tokens'].values\n",
        "tweets_cat = df['polarity'].values\n",
        "\n",
        "display(df.head())\n",
        "print(\"Number of tweets and categories\")\n",
        "print(len(tweets_processed), len(tweets_cat))\n",
        "print(\"\\nExamle of polarity, processed tweet, processed tweet without stopwords\")\n",
        "print(tweets_cat[0],',',tweets_processed[0],',',df['tweet_no_stopwords'].values[0])"
      ]
    },
    {
      "cell_type": "markdown",
      "metadata": {
        "id": "-KIyUvelri6h"
      },
      "source": [
        "## Train your own Embedding"
      ]
    },
    {
      "cell_type": "code",
      "execution_count": null,
      "metadata": {
        "id": "1k86uCbGri6h",
        "outputId": "02376556-ea8e-4d8f-a3ff-1a7a81ba1132"
      },
      "outputs": [
        {
          "name": "stdout",
          "output_type": "stream",
          "text": [
            "CBOW Model Training Complete.\n",
            "Time taken for training is:0.26048 sec \n"
          ]
        }
      ],
      "source": [
        "#CBOW\n",
        "import time\n",
        "start = time.time()\n",
        "w2v_model = Word2Vec(tweets_processed,min_count=5, sg=0)\n",
        "end = time.time()\n",
        "\n",
        "print(\"CBOW Model Training Complete.\\nTime taken for training is:{:.5f} sec \".format((end-start)))"
      ]
    },
    {
      "cell_type": "code",
      "execution_count": null,
      "metadata": {
        "id": "3ADepJorri6i",
        "outputId": "ff0b2548-51b6-4ca4-fd5a-2e8d98deeb90"
      },
      "outputs": [
        {
          "name": "stdout",
          "output_type": "stream",
          "text": [
            "2034\n"
          ]
        },
        {
          "data": {
            "text/plain": [
              "array([-0.11000946,  0.08224008, -0.2457916 , -0.01220685, -0.18601269,\n",
              "        0.00523998, -0.00507181, -0.07762612, -0.10011366,  0.33908988,\n",
              "        0.06252642, -0.04345755,  0.12749993, -0.35703743,  0.2398896 ,\n",
              "       -0.08165025, -0.27893725, -0.08432864, -0.39982322,  0.11275407,\n",
              "       -0.35310337,  0.04924289, -0.05515452,  0.19547662, -0.08554919,\n",
              "       -0.15641166, -0.30485598,  0.33278381,  0.17344698, -0.12306982,\n",
              "        0.14739941, -0.22321756, -0.04895892, -0.08503899,  0.10244402,\n",
              "       -0.21976046, -0.13981797,  0.03915762,  0.01270108, -0.04367448,\n",
              "        0.01347027, -0.08552931,  0.04630744,  0.05024158, -0.06494117,\n",
              "        0.2162953 ,  0.01547404, -0.11982584, -0.12661303,  0.18651646,\n",
              "       -0.21306013, -0.10556066,  0.07856253,  0.33509017,  0.2425042 ,\n",
              "        0.07452476, -0.07753238,  0.15359538,  0.16840796, -0.14462264,\n",
              "        0.22466612,  0.1852351 ,  0.21337978,  0.03906654,  0.28573281,\n",
              "       -0.27614906, -0.06802826, -0.0617772 ,  0.18794162,  0.11583729,\n",
              "       -0.28001018,  0.08504061, -0.03915879,  0.0207446 ,  0.2017424 ,\n",
              "        0.30641496,  0.37975039, -0.19332227, -0.23478386, -0.01945616,\n",
              "        0.18491143, -0.07360523, -0.16305534,  0.04172655, -0.34919176,\n",
              "       -0.03808927, -0.23961198,  0.04312244,  0.0474222 ,  0.36156755,\n",
              "       -0.19666712, -0.20696849, -0.07748967,  0.00269695, -0.05925297,\n",
              "       -0.04884915, -0.41038336, -0.01392018, -0.20682046,  0.10402262])"
            ]
          },
          "execution_count": 44,
          "metadata": {},
          "output_type": "execute_result"
        }
      ],
      "source": [
        "#Create document vectors by averaging word vectors.\n",
        "def embedding_feats(list_of_lists):\n",
        "    DIMENSION = 100\n",
        "    zero_vector = np.zeros(DIMENSION)\n",
        "    feats = []\n",
        "    for tokens in list_of_lists:\n",
        "        feat_for_this =  np.zeros(DIMENSION)\n",
        "        count_for_this = 0\n",
        "        for token in tokens:\n",
        "            if token in w2v_model:\n",
        "                feat_for_this += w2v_model[token]\n",
        "                count_for_this +=1\n",
        "        feats.append(feat_for_this/count_for_this if count_for_this > 0 else feat_for_this)        \n",
        "    return feats\n",
        "\n",
        "train_vectors = embedding_feats(df['tweet_no_stopwords'].values)\n",
        "print(len(train_vectors))"
      ]
    },
    {
      "cell_type": "code",
      "execution_count": null,
      "metadata": {
        "id": "bWMaZF5lri6k",
        "outputId": "b7624752-c6bd-4c30-a027-164d5019633b"
      },
      "outputs": [
        {
          "name": "stdout",
          "output_type": "stream",
          "text": [
            "Accuracy:  0.6797642436149313\n",
            "              precision    recall  f1-score   support\n",
            "\n",
            "           0       0.68      1.00      0.81       346\n",
            "           4       0.00      0.00      0.00       163\n",
            "\n",
            "    accuracy                           0.68       509\n",
            "   macro avg       0.34      0.50      0.40       509\n",
            "weighted avg       0.46      0.68      0.55       509\n",
            "\n"
          ]
        }
      ],
      "source": [
        "#Take any classifier (LogisticRegression here)\n",
        "classifier = LogisticRegression(random_state=2020)\n",
        "train_data, test_data, train_cats, test_cats = train_test_split(train_vectors, \n",
        "                                                                df['polarity'].values)\n",
        "\n",
        "classifier.fit(train_data, train_cats)\n",
        "print(\"Accuracy: \", classifier.score(test_data, test_cats))\n",
        "preds = classifier.predict(test_data)\n",
        "print(classification_report(test_cats, preds))"
      ]
    },
    {
      "cell_type": "code",
      "execution_count": null,
      "metadata": {
        "id": "XwZ3_xRBri6m"
      },
      "outputs": [],
      "source": [
        ""
      ]
    },
    {
      "cell_type": "code",
      "execution_count": null,
      "metadata": {
        "id": "GRDE3RXwri6n"
      },
      "outputs": [],
      "source": [
        ""
      ]
    },
    {
      "cell_type": "code",
      "execution_count": null,
      "metadata": {
        "id": "PEoI0kj_ri6n"
      },
      "outputs": [],
      "source": [
        ""
      ]
    }
  ],
  "metadata": {
    "kernelspec": {
      "display_name": "Python 3",
      "language": "python",
      "name": "python3"
    },
    "language_info": {
      "codemirror_mode": {
        "name": "ipython",
        "version": 3
      },
      "file_extension": ".py",
      "mimetype": "text/x-python",
      "name": "python",
      "nbconvert_exporter": "python",
      "pygments_lexer": "ipython3",
      "version": "3.6.10"
    },
    "colab": {
      "name": "TwitterSentiment_2.ipynb",
      "provenance": [],
      "include_colab_link": true
    }
  },
  "nbformat": 4,
  "nbformat_minor": 0
}