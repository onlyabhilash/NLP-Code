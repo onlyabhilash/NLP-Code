{
  "cells": [
    {
      "cell_type": "markdown",
      "metadata": {
        "id": "view-in-github",
        "colab_type": "text"
      },
      "source": [
        "<a href=\"https://colab.research.google.com/github/onlyabhilash/NLP-Code/blob/main/part-7/Twitter_Sentiment_Analysis_2.ipynb\" target=\"_parent\"><img src=\"https://colab.research.google.com/assets/colab-badge.svg\" alt=\"Open In Colab\"/></a>"
      ]
    },
    {
      "cell_type": "markdown",
      "metadata": {
        "id": "DIsChGKp1Xa-"
      },
      "source": [
        "In this notebook we will compare the output difference between of a classifier on a preprocessed tweet which has been preprocesssed using our pipeline and a raw tweet respectively."
      ]
    },
    {
      "cell_type": "code",
      "execution_count": null,
      "metadata": {
        "id": "2oAnpbUU1XbJ"
      },
      "outputs": [],
      "source": [
        "import os\n",
        "import sys\n",
        "\n",
        "preprocessing_path = \"PATH_TO_GITHUB_REPO/github/practical-nlp/Ch8/smtd_preprocessing.py\"\n",
        "sys.path.append(os.path.abspath(preprocessing_path))\n",
        "import smtd_preprocessing \n",
        "import warnings\n",
        "warnings.filterwarnings('ignore')\n",
        "\n",
        "#we will use textblob to classify the tweets\n",
        "from textblob import TextBlob"
      ]
    },
    {
      "cell_type": "markdown",
      "metadata": {
        "id": "dWaLJ-EV1XbL"
      },
      "source": [
        "Lets consider a sample tweet"
      ]
    },
    {
      "cell_type": "code",
      "execution_count": null,
      "metadata": {
        "id": "uIpna5UY1XbL",
        "outputId": "d24a9860-9121-4279-adb6-741bb45321e5"
      },
      "outputs": [
        {
          "data": {
            "text/plain": [
              "'constantnonbrandmention chilled beer is very good constantnonbrandmention .'"
            ]
          },
          "execution_count": 9,
          "metadata": {},
          "output_type": "execute_result"
        }
      ],
      "source": [
        "tweet = \"@bad chilled beer is very good @verybad.\"\n",
        "tweet_processed = smtd_preprocessing.process_TweetText(tweet)\n",
        "tweet_processed"
      ]
    },
    {
      "cell_type": "markdown",
      "metadata": {
        "id": "yjuRt3zT1XbN"
      },
      "source": [
        "Lets use textblob to analyze the sentiment of the tweet with and without pre-processing"
      ]
    },
    {
      "cell_type": "code",
      "execution_count": null,
      "metadata": {
        "id": "UjVo8xt01XbO",
        "outputId": "d71f851d-d881-466e-a5a5-d97d8de1c3cb"
      },
      "outputs": [
        {
          "data": {
            "text/plain": [
              "Sentiment(polarity=0.10500000000000004, subjectivity=0.7233333333333334)"
            ]
          },
          "execution_count": 10,
          "metadata": {},
          "output_type": "execute_result"
        }
      ],
      "source": [
        "blob = TextBlob(tweet)\n",
        "blob.sentiment"
      ]
    },
    {
      "cell_type": "code",
      "execution_count": null,
      "metadata": {
        "id": "TL6B0Eqb1XbP",
        "outputId": "647359b6-acc2-423d-b871-9ff782731ece"
      },
      "outputs": [
        {
          "data": {
            "text/plain": [
              "Sentiment(polarity=0.9099999999999999, subjectivity=0.7800000000000001)"
            ]
          },
          "execution_count": 11,
          "metadata": {},
          "output_type": "execute_result"
        }
      ],
      "source": [
        "blob = TextBlob(tweet_processed)\n",
        "blob.sentiment"
      ]
    },
    {
      "cell_type": "markdown",
      "metadata": {
        "id": "u0FvdHcr1XbQ"
      },
      "source": [
        "As we can see the classifier predicted the raw tweet as negative most likely due to the words \"bad\" being present.  It didnt understand that it was just a reference to a person and it held no sentimental meaning.\n",
        "As expected the pre-processed tweet performs much better.\n",
        "<br>\n",
        "We hope this shows the importance of pre-processing data."
      ]
    },
    {
      "cell_type": "code",
      "execution_count": null,
      "metadata": {
        "id": "jFiREZUX1XbS"
      },
      "outputs": [],
      "source": [
        ""
      ]
    }
  ],
  "metadata": {
    "kernelspec": {
      "display_name": "Python 3",
      "language": "python",
      "name": "python3"
    },
    "language_info": {
      "codemirror_mode": {
        "name": "ipython",
        "version": 3
      },
      "file_extension": ".py",
      "mimetype": "text/x-python",
      "name": "python",
      "nbconvert_exporter": "python",
      "pygments_lexer": "ipython3",
      "version": "3.6.10"
    },
    "colab": {
      "name": "Twitter_Sentiment_Analysis_2.ipynb",
      "provenance": [],
      "include_colab_link": true
    }
  },
  "nbformat": 4,
  "nbformat_minor": 0
}