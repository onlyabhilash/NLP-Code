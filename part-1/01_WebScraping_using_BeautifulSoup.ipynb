{
  "cells": [
    {
      "cell_type": "markdown",
      "metadata": {
        "id": "view-in-github",
        "colab_type": "text"
      },
      "source": [
        "<a href=\"https://colab.research.google.com/github/onlyabhilash/NLP-Code/blob/main/part-1/01_WebScraping_using_BeautifulSoup.ipynb\" target=\"_parent\"><img src=\"https://colab.research.google.com/assets/colab-badge.svg\" alt=\"Open In Colab\"/></a>"
      ]
    },
    {
      "cell_type": "markdown",
      "metadata": {
        "id": "vh_Bs4XdeRzQ"
      },
      "source": [
        "# In this notebook we show how we can scrap data from webpages using the [Beautiful Soup](https://www.crummy.com/software/BeautifulSoup/bs4/doc/), a python library.\n",
        "<br><br>"
      ]
    },
    {
      "cell_type": "code",
      "source": [
        "from google.colab import drive\n",
        "drive.mount('/content/drive')"
      ],
      "metadata": {
        "colab": {
          "base_uri": "https://localhost:8080/"
        },
        "id": "5D3b0UAjwd2p",
        "outputId": "36cbd659-16fb-4eb0-d74c-6d15564e6652"
      },
      "execution_count": 1,
      "outputs": [
        {
          "output_type": "stream",
          "name": "stdout",
          "text": [
            "Mounted at /content/drive\n"
          ]
        }
      ]
    },
    {
      "cell_type": "code",
      "execution_count": 2,
      "metadata": {
        "colab": {
          "base_uri": "https://localhost:8080/",
          "height": 383
        },
        "id": "Ta7XYSALNXSy",
        "outputId": "30a57811-5a8b-4826-9951-86f423b988a3"
      },
      "outputs": [
        {
          "output_type": "stream",
          "name": "stdout",
          "text": [
            "Collecting numpy==1.19.5\n",
            "  Downloading numpy-1.19.5-cp37-cp37m-manylinux2010_x86_64.whl (14.8 MB)\n",
            "\u001b[K     |████████████████████████████████| 14.8 MB 5.2 MB/s \n",
            "\u001b[?25hInstalling collected packages: numpy\n",
            "  Attempting uninstall: numpy\n",
            "    Found existing installation: numpy 1.21.5\n",
            "    Uninstalling numpy-1.21.5:\n",
            "      Successfully uninstalled numpy-1.21.5\n",
            "\u001b[31mERROR: pip's dependency resolver does not currently take into account all the packages that are installed. This behaviour is the source of the following dependency conflicts.\n",
            "tensorflow 2.8.0 requires tf-estimator-nightly==2.8.0.dev2021122109, which is not installed.\n",
            "tensorflow 2.8.0 requires numpy>=1.20, but you have numpy 1.19.5 which is incompatible.\n",
            "datascience 0.10.6 requires folium==0.2.1, but you have folium 0.8.3 which is incompatible.\n",
            "albumentations 0.1.12 requires imgaug<0.2.7,>=0.2.5, but you have imgaug 0.2.9 which is incompatible.\u001b[0m\n",
            "Successfully installed numpy-1.19.5\n"
          ]
        },
        {
          "output_type": "display_data",
          "data": {
            "application/vnd.colab-display-data+json": {
              "pip_warning": {
                "packages": [
                  "numpy"
                ]
              }
            }
          },
          "metadata": {}
        },
        {
          "output_type": "stream",
          "name": "stdout",
          "text": [
            "Requirement already satisfied: beautifulsoup4==4.6.3 in /usr/local/lib/python3.7/dist-packages (4.6.3)\n"
          ]
        }
      ],
      "source": [
        "# To install only the requirements of this notebook, uncomment the lines below and run this cell\n",
        "\n",
        "# ===========================\n",
        "\n",
        "!pip install numpy==1.19.5\n",
        "!pip install beautifulsoup4==4.6.3\n",
        "\n",
        "# ==========================="
      ]
    },
    {
      "cell_type": "code",
      "execution_count": 3,
      "metadata": {
        "id": "qu5FAkMzNXS2"
      },
      "outputs": [],
      "source": [
        "# To install the requirements for the entire chapter, uncomment the lines below and run this cell\n",
        "\n",
        "# ===========================\n",
        "\n",
        "# try :\n",
        "#     import google.colab\n",
        "#     !curl https://raw.githubusercontent.com/practical-nlp/practical-nlp/master/Ch2/ch2-requirements.txt | xargs -n 1 -L 1 pip install\n",
        "# except ModuleNotFoundError :\n",
        "#     !pip install -r \"ch2-requirements.txt\"\n",
        "\n",
        "# ==========================="
      ]
    },
    {
      "cell_type": "code",
      "execution_count": 4,
      "metadata": {
        "id": "P610gMZrd8SE"
      },
      "outputs": [],
      "source": [
        "# making the necessary imports\n",
        "from pprint import pprint\n",
        "from bs4 import BeautifulSoup\n",
        "from urllib.request import urlopen "
      ]
    },
    {
      "cell_type": "code",
      "execution_count": 5,
      "metadata": {
        "id": "jfwgiGjJeBSG"
      },
      "outputs": [],
      "source": [
        "myurl = \"https://stackoverflow.com/questions/415511/how-to-get-the-current-time-in-python\" # specify the url\n",
        "html = urlopen(myurl).read() # query the website so that it returns a html page  \n",
        "soupified = BeautifulSoup(html, 'html.parser') # parse the html in the 'html' variable, and store it in Beautiful Soup format"
      ]
    },
    {
      "cell_type": "markdown",
      "metadata": {
        "id": "1HrQU0h4NXS6"
      },
      "source": [
        "As the size of the HTML webpage (soupified) is large, we are just showing some of its output (only 2000 characters)."
      ]
    },
    {
      "cell_type": "code",
      "execution_count": 6,
      "metadata": {
        "id": "MpVjimExNXS7"
      },
      "outputs": [],
      "source": [
        "#pprint(soupified.prettify())      # for printing the full HTML structure of the webpage"
      ]
    },
    {
      "cell_type": "code",
      "execution_count": 7,
      "metadata": {
        "colab": {
          "base_uri": "https://localhost:8080/"
        },
        "id": "7TbFVmpRg6jN",
        "outputId": "35bd5d5f-47dc-439a-acde-52dffb052503",
        "scrolled": false
      },
      "outputs": [
        {
          "output_type": "stream",
          "name": "stdout",
          "text": [
            "('<!DOCTYPE html>\\n'\n",
            " '<html class=\"html__responsive \" itemscope=\"\" '\n",
            " 'itemtype=\"https://schema.org/QAPage\">\\n'\n",
            " ' <head>\\n'\n",
            " '  <title>\\n'\n",
            " '   datetime - How to get the current time in Python - Stack Overflow\\n'\n",
            " '  </title>\\n'\n",
            " '  <link '\n",
            " 'href=\"https://cdn.sstatic.net/Sites/stackoverflow/Img/favicon.ico?v=ec617d715196\" '\n",
            " 'rel=\"shortcut icon\"/>\\n'\n",
            " '  <link '\n",
            " 'href=\"https://cdn.sstatic.net/Sites/stackoverflow/Img/apple-touch-icon.png?v=c78bd457575a\" '\n",
            " 'rel=\"apple-touch-icon\"/>\\n'\n",
            " '  <link '\n",
            " 'href=\"https://cdn.sstatic.net/Sites/stackoverflow/Img/apple-touch-icon.png?v=c78bd457575a\" '\n",
            " 'rel=\"image_src\"/>\\n'\n",
            " '  <link href=\"/opensearch.xml\" rel=\"search\" title=\"Stack Overflow\" '\n",
            " 'type=\"application/opensearchdescription+xml\"/>\\n'\n",
            " '  <link '\n",
            " 'href=\"https://stackoverflow.com/questions/415511/how-to-get-the-current-time-in-python\" '\n",
            " 'rel=\"canonical\">\\n'\n",
            " '   <meta content=\"width=device-width, height=device-height, '\n",
            " 'initial-scale=1.0, minimum-scale=1.0\" name=\"viewport\"/>\\n'\n",
            " '   <meta content=\"website\" property=\"og:type\">\\n'\n",
            " '    <meta '\n",
            " 'content=\"https://stackoverflow.com/questions/415511/how-to-get-the-current-time-in-python\" '\n",
            " 'property=\"og:url\"/>\\n'\n",
            " '    <meta content=\"Stack Overflow\" property=\"og:site_name\"/>\\n'\n",
            " '    <meta '\n",
            " 'content=\"https://cdn.sstatic.net/Sites/stackoverflow/Img/apple-touch-icon@2.png?v=73d79a89bded\" '\n",
            " 'itemprop=\"image primaryImageOfPage\" property=\"og:image\"/>\\n'\n",
            " '    <meta content=\"summary\" name=\"twitter:card\"/>\\n'\n",
            " '    <meta content=\"stackoverflow.com\" name=\"twitter:domain\"/>\\n'\n",
            " '    <meta content=\"How to get the current time in Python\" itemprop=\"name\" '\n",
            " 'name=\"twitter:title\" property=\"og:title\"/>\\n'\n",
            " '    <meta content=\"What is the module/method used to get the current time?\" '\n",
            " 'itemprop=\"description\" name=\"twitter:description\" '\n",
            " 'property=\"og:description\"/>\\n'\n",
            " '    <script id=\"webpack-public-path\" type=\"text/uri-list\">\\n'\n",
            " '     https://cdn.sstatic.net/\\n'\n",
            " '    </script>\\n'\n",
            " '    <script '\n",
            " 'src=\"https://ajax.googleapis.com/ajax/libs/jquery/1.12.4/jquery.min.js\">\\n'\n",
            " '    </script>\\n'\n",
            " '    <script async=\"\" '\n",
            " 'src=\"https://cdn.sstatic.net/Js/third-party/stacks/stacks.min.js?v=636658ad2e24\">\\n'\n",
            " '    </script>\\n'\n",
            " '    <script ')\n"
          ]
        }
      ],
      "source": [
        "pprint(soupified.prettify()[:2000]) # to get an idea of the html structure of the webpage "
      ]
    },
    {
      "cell_type": "code",
      "execution_count": 8,
      "metadata": {
        "colab": {
          "base_uri": "https://localhost:8080/"
        },
        "id": "GDHVujprhLJZ",
        "outputId": "e9316975-10b5-49ac-906c-87e19353cc18"
      },
      "outputs": [
        {
          "output_type": "execute_result",
          "data": {
            "text/plain": [
              "<title>datetime - How to get the current time in Python - Stack Overflow</title>"
            ]
          },
          "metadata": {},
          "execution_count": 8
        }
      ],
      "source": [
        "soupified.title # to get the title of the web page "
      ]
    },
    {
      "cell_type": "code",
      "execution_count": 9,
      "metadata": {
        "colab": {
          "base_uri": "https://localhost:8080/"
        },
        "id": "lSpsxVXkeDf0",
        "outputId": "198e1521-252b-4ab9-8da8-9a25167b8b5c"
      },
      "outputs": [
        {
          "output_type": "stream",
          "name": "stdout",
          "text": [
            "Question: \n",
            " What is the module/method used to get the current time?\n",
            "Best answer: \n",
            " Use:\n",
            ">>> import datetime\n",
            ">>> datetime.datetime.now()\n",
            "datetime.datetime(2009, 1, 6, 15, 8, 24, 78915)\n",
            "\n",
            ">>> print(datetime.datetime.now())\n",
            "2009-01-06 15:08:24.789150\n",
            "\n",
            "And just the time:\n",
            ">>> datetime.datetime.now().time()\n",
            "datetime.time(15, 8, 24, 78915)\n",
            "\n",
            ">>> print(datetime.datetime.now().time())\n",
            "15:08:24.789150\n",
            "\n",
            "See the documentation for more information.\n",
            "To save typing, you can import the datetime object from the datetime module:\n",
            ">>> from datetime import datetime\n",
            "\n",
            "Then remove the leading datetime. from all of the above.\n"
          ]
        }
      ],
      "source": [
        "question = soupified.find(\"div\", {\"class\": \"question\"}) # find the nevessary tag and class which it belongs to\n",
        "questiontext = question.find(\"div\", {\"class\": \"s-prose js-post-body\"})\n",
        "print(\"Question: \\n\", questiontext.get_text().strip())\n",
        "\n",
        "answer = soupified.find(\"div\", {\"class\": \"answer\"}) # find the nevessary tag and class which it belongs to\n",
        "answertext = answer.find(\"div\", {\"class\": \"s-prose js-post-body\"})\n",
        "print(\"Best answer: \\n\", answertext.get_text().strip())"
      ]
    },
    {
      "cell_type": "markdown",
      "metadata": {
        "id": "j1jgT85dlcow"
      },
      "source": [
        "BeautifulSoup is one of the many libraries which allow us to scrape web pages. Depending on your needs you can choose between the many available choices like beautifulsoup, scrapy, selenium, etc"
      ]
    }
  ],
  "metadata": {
    "colab": {
      "collapsed_sections": [],
      "name": "01_WebScraping_using_BeautifulSoup.ipynb",
      "provenance": [],
      "include_colab_link": true
    },
    "kernelspec": {
      "display_name": "Python 3",
      "language": "python",
      "name": "python3"
    },
    "language_info": {
      "codemirror_mode": {
        "name": "ipython",
        "version": 3
      },
      "file_extension": ".py",
      "mimetype": "text/x-python",
      "name": "python",
      "nbconvert_exporter": "python",
      "pygments_lexer": "ipython3",
      "version": "3.7.4"
    }
  },
  "nbformat": 4,
  "nbformat_minor": 0
}